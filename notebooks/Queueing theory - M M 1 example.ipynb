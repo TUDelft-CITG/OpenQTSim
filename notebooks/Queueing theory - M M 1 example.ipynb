{
 "cells": [
  {
   "cell_type": "markdown",
   "metadata": {},
   "source": [
    "# Queueing theory - M/M/1 example"
   ]
  },
  {
   "cell_type": "markdown",
   "metadata": {},
   "source": [
    "#### Issues\n",
    "* The arrivals followed a poisson distribution, but in this setup of the package we enter the interarrival times which follow an exponential one. We may need to look at how generic this approach will be for other types of distributions. How will that work for Erlang distributions.\n",
    "* For 1 M customers the script allready becomes reasonably slow. Perhaps we should make logging optional and have a couple of key running means. Interesting to see if that will speed things up.\n",
    "* Maybe we could then implement iteration until e.g. the mean of the distribution is accurately represented to lets say 0.001 or 0.0001.\n",
    "* Maybe we should not allow entering of distributions, but rather steer the simulations with the Kendall codes. Just provide M/M/1 and the nr of customers should be enough for example.\n",
    "* We want to have a notebook with D/D/1 but then also include quay length (to match te example of the P&W II case). This needs some additional thinking. Maybe this can be solved with length of the queue where the quay is a qeueu lenght in m and a vessel can takes several meters of queue.\n",
    "* Using multiple servers seems to work, but that still needs to be thoroughly checked\n",
    "* Need to make sure we can extract the same statistics from the simulation as from the analytical result to enable comparison (validation check)"
   ]
  },
  {
   "cell_type": "markdown",
   "metadata": {},
   "source": [
    "### 1. Imports"
   ]
  },
  {
   "cell_type": "code",
   "execution_count": 4,
   "metadata": {},
   "outputs": [],
   "source": [
    "from scipy import stats\n",
    "\n",
    "import pandas as pd\n",
    "import numpy as np\n",
    "\n",
    "import openqtsim\n",
    "\n",
    "import matplotlib.pyplot as plt"
   ]
  },
  {
   "cell_type": "markdown",
   "metadata": {},
   "source": [
    "### 2. Prepare inputs"
   ]
  },
  {
   "cell_type": "markdown",
   "metadata": {},
   "source": [
    "#### Specify the long term average IAT and ST in seconds"
   ]
  },
  {
   "cell_type": "code",
   "execution_count": 5,
   "metadata": {},
   "outputs": [],
   "source": [
    "# arrivals and services\n",
    "arrivals_per_hour = 8  # lambda\n",
    "services_per_hour = 9  # mu\n",
    "\n",
    "# inter arrival times and service times\n",
    "aver_IAT_in_secs = 3600 / arrivals_per_hour\n",
    "aver_ST_in_secs = 3600 / services_per_hour"
   ]
  },
  {
   "cell_type": "markdown",
   "metadata": {},
   "source": [
    "#### Define the queue object input"
   ]
  },
  {
   "cell_type": "code",
   "execution_count": 6,
   "metadata": {},
   "outputs": [
    {
     "ename": "TypeError",
     "evalue": "'module' object is not callable",
     "output_type": "error",
     "traceback": [
      "\u001b[1;31m---------------------------------------------------------------------------\u001b[0m",
      "\u001b[1;31mTypeError\u001b[0m                                 Traceback (most recent call last)",
      "\u001b[1;32m<ipython-input-6-f6ee685058b1>\u001b[0m in \u001b[0;36m<module>\u001b[1;34m\u001b[0m\n\u001b[1;32m----> 1\u001b[1;33m \u001b[0mA\u001b[0m \u001b[1;33m=\u001b[0m \u001b[0mopenqtsim\u001b[0m\u001b[1;33m.\u001b[0m\u001b[0marrival_process\u001b[0m\u001b[1;33m(\u001b[0m\u001b[1;34m\"M\"\u001b[0m\u001b[1;33m,\u001b[0m \u001b[0mstats\u001b[0m\u001b[1;33m.\u001b[0m\u001b[0mexpon\u001b[0m\u001b[1;33m(\u001b[0m\u001b[0mscale\u001b[0m \u001b[1;33m=\u001b[0m \u001b[0maver_IAT_in_secs\u001b[0m\u001b[1;33m)\u001b[0m\u001b[1;33m)\u001b[0m\u001b[1;33m\u001b[0m\u001b[1;33m\u001b[0m\u001b[0m\n\u001b[0m\u001b[0;32m      2\u001b[0m \u001b[0mS\u001b[0m \u001b[1;33m=\u001b[0m \u001b[0mopenqtsim\u001b[0m\u001b[1;33m.\u001b[0m\u001b[0mservice_process\u001b[0m\u001b[1;33m(\u001b[0m\u001b[1;34m\"M\"\u001b[0m\u001b[1;33m,\u001b[0m \u001b[0mstats\u001b[0m\u001b[1;33m.\u001b[0m\u001b[0mexpon\u001b[0m\u001b[1;33m(\u001b[0m\u001b[0mscale\u001b[0m \u001b[1;33m=\u001b[0m \u001b[0maver_ST_in_secs\u001b[0m\u001b[1;33m)\u001b[0m\u001b[1;33m)\u001b[0m\u001b[1;33m\u001b[0m\u001b[1;33m\u001b[0m\u001b[0m\n\u001b[0;32m      3\u001b[0m \u001b[0mc\u001b[0m \u001b[1;33m=\u001b[0m \u001b[1;36m1\u001b[0m\u001b[1;33m\u001b[0m\u001b[1;33m\u001b[0m\u001b[0m\n",
      "\u001b[1;31mTypeError\u001b[0m: 'module' object is not callable"
     ]
    }
   ],
   "source": [
    "A = openqtsim.arrival_process(\"M\", stats.expon(scale = aver_IAT_in_secs))\n",
    "S = openqtsim.service_process(\"M\", stats.expon(scale = aver_ST_in_secs))\n",
    "c = 1"
   ]
  },
  {
   "cell_type": "markdown",
   "metadata": {},
   "source": [
    "#### Create the queue object and use it to create a simulating object"
   ]
  },
  {
   "cell_type": "code",
   "execution_count": null,
   "metadata": {
    "scrolled": false
   },
   "outputs": [],
   "source": [
    "# todo: enable deterministic analyses by adding a list of 'customer_name#', 'interarrival#' and 'servicetime#'\n",
    "q = openqtsim.queue(A, S, c)\n",
    "sim = openqtsim.simulation(q)"
   ]
  },
  {
   "cell_type": "markdown",
   "metadata": {},
   "source": [
    "### 3. Run the simulation"
   ]
  },
  {
   "cell_type": "code",
   "execution_count": null,
   "metadata": {
    "scrolled": false
   },
   "outputs": [],
   "source": [
    "%%time\n",
    "print('Start simulation of \"{}\" queue'.format(q.kendall_notation))\n",
    "sim.run(1000) # nr is the number of customers that will arrive at the server\n",
    "sim.return_log(10)"
   ]
  },
  {
   "cell_type": "markdown",
   "metadata": {},
   "source": [
    "### 4. Analyse and visualise results"
   ]
  },
  {
   "cell_type": "markdown",
   "metadata": {},
   "source": [
    "#### Get statistics"
   ]
  },
  {
   "cell_type": "code",
   "execution_count": null,
   "metadata": {},
   "outputs": [],
   "source": [
    "print('--- input statistics --------')\n",
    "print(\"aver_IAT_in_secs: {:.2f} [seconds]\".format(aver_IAT_in_secs))\n",
    "print(\"aver_ST_in_secs: {:.2f} [seconds]\".format(aver_ST_in_secs))\n",
    "print('')\n",
    "\n",
    "print('--- simulation statistics ---')\n",
    "sim.get_stats()"
   ]
  },
  {
   "cell_type": "markdown",
   "metadata": {},
   "source": [
    "**Analytical solution: M_M_1_inf_inf_FIFO**\n",
    "\n",
    "    arrival rate: 8.0000 per hour\n",
    "    service rate: 9.0000 per hour\n",
    "    rho: 0.8889\n",
    "\n",
    "    P_0: probability that there are 0 customers in the system = 0.1111\n",
    "    P_1: probability of 1 customers in the system = 0.0988\n",
    "    P_10: probability of 10 customers in the system = 0.0342\n",
    "\n",
    "    no_q: probability that there is nobody in the queue (P_0+P_1) = 0.2099\n",
    "    util_sys: system utilisation rate  (P_(n>=1)) = 0.8889\n",
    "    util_ser: server utilisation rate (P_(n>=2)) = 0.7901\n",
    "\n",
    "    L_s: the long term average number of customers present in the system = 8.0000\n",
    "    L_q: the long term average number of customers present in the queue = 7.1111\n",
    "    W_s: the long term average waiting time in the system = 1.0000 hour (= 60.0 minutes)\n",
    "    W_q: the long term average waiting time in the queue = 0.8889 hour (= 53.3 minutes)"
   ]
  },
  {
   "cell_type": "markdown",
   "metadata": {},
   "source": [
    "#### Return log"
   ]
  },
  {
   "cell_type": "code",
   "execution_count": null,
   "metadata": {},
   "outputs": [],
   "source": [
    "sim.return_log(15)\n",
    "# c = customer\n",
    "# IAT = inter arrival time\n",
    "# ST = service time\n",
    "# AT = arrival time\n",
    "# TSB = time service begins\n",
    "# TSE = time service ends\n",
    "# TCSS = time customer spends in the system\n",
    "# TCWQ = time customer waits in the queue\n",
    "# ITS = idle time of the server\n",
    "# QL = queue length"
   ]
  },
  {
   "cell_type": "code",
   "execution_count": null,
   "metadata": {
    "scrolled": false
   },
   "outputs": [],
   "source": [
    "fig, (ax1, ax2) = plt.subplots(1, 2, figsize=(20, 12))\n",
    "\n",
    "fig.suptitle('Overview of stochastic variables')\n",
    "ax1.hist(sim.log[\"IAT\"],1000); ax1.set_title('IAT');\n",
    "ax2.hist(sim.log[\"ST\"],1000); ax2.set_title('ST');"
   ]
  },
  {
   "cell_type": "markdown",
   "metadata": {},
   "source": [
    "## Sandbox"
   ]
  },
  {
   "cell_type": "code",
   "execution_count": null,
   "metadata": {},
   "outputs": [],
   "source": []
  }
 ],
 "metadata": {
  "kernelspec": {
   "display_name": "Python 3",
   "language": "python",
   "name": "python3"
  },
  "language_info": {
   "codemirror_mode": {
    "name": "ipython",
    "version": 3
   },
   "file_extension": ".py",
   "mimetype": "text/x-python",
   "name": "python",
   "nbconvert_exporter": "python",
   "pygments_lexer": "ipython3",
   "version": "3.7.3"
  }
 },
 "nbformat": 4,
 "nbformat_minor": 2
}
