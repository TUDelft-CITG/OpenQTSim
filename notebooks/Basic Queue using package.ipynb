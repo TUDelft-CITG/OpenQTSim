{
 "cells": [
  {
   "cell_type": "code",
   "execution_count": 1,
   "metadata": {},
   "outputs": [],
   "source": [
    "from scipy import stats\n",
    "import queueing"
   ]
  },
  {
   "cell_type": "code",
   "execution_count": 2,
   "metadata": {},
   "outputs": [],
   "source": [
    "c = 2\n",
    "A = queueing.arrival_process(\"M\", stats.poisson(1 / (c * 0.95)))\n",
    "S = queueing.service_process(\"M\", stats.expon(0))\n",
    "\n",
    "q = queueing.queue(A, S, c)\n",
    "sim = queueing.simulation(q)"
   ]
  },
  {
   "cell_type": "code",
   "execution_count": 3,
   "metadata": {},
   "outputs": [
    {
     "name": "stdout",
     "output_type": "stream",
     "text": [
      "Wall time: 1min 4s\n"
     ]
    }
   ],
   "source": [
    "%%time\n",
    "sim.simulate(500000)"
   ]
  },
  {
   "cell_type": "code",
   "execution_count": 4,
   "metadata": {},
   "outputs": [
    {
     "name": "stdout",
     "output_type": "stream",
     "text": [
      "The arrival rate is:      0.53 seconds\n",
      "The mean waiting time is: 9.15 seconds\n",
      "The mean service time is: 1.00 seconds\n",
      "\n",
      "------------------------------------------\n",
      "\n",
      "Compared to the statistical solution:\n",
      "The arrival rate is:      0.53 seconds\n",
      "The mean waiting time is: 9.26 seconds\n",
      "The mean service time is: 1.00 seconds\n"
     ]
    }
   ],
   "source": [
    "sim.get_stats()\n",
    "\n",
    "print(\"\\n------------------------------------------\\n\")\n",
    "\n",
    "print(\"Compared to the statistical solution:\")\n",
    "print(\"The arrival rate is:      {:04.2f} seconds\".format(sim.environment.queue.A.arrival_rate))\n",
    "print(\"The mean waiting time is: {:04.2f} seconds\".format(sim.environment.queue.mean_waiting_time))\n",
    "print(\"The mean service time is: {:04.2f} seconds\".format(sim.environment.queue.S.mean_service_time))"
   ]
  },
  {
   "cell_type": "code",
   "execution_count": 6,
   "metadata": {},
   "outputs": [
    {
     "name": "stdout",
     "output_type": "stream",
     "text": [
      "17.38141\n",
      "17.587179487179515\n"
     ]
    }
   ],
   "source": [
    "import numpy as np\n",
    "print(np.mean(sim.log[\"In queue\"]))\n",
    "print(q.mean_queue_length)"
   ]
  },
  {
   "cell_type": "code",
   "execution_count": 5,
   "metadata": {},
   "outputs": [
    {
     "name": "stdout",
     "output_type": "stream",
     "text": [
      "17.16457196884749\n",
      "17.587179487179515\n"
     ]
    }
   ],
   "source": [
    "print(np.mean(sim.log[\"In queue\"]))\n",
    "print(q.mean_queue_length)"
   ]
  },
  {
   "cell_type": "code",
   "execution_count": 9,
   "metadata": {},
   "outputs": [
    {
     "name": "stdout",
     "output_type": "stream",
     "text": [
      "18.612839407904364\n",
      "17.587179487179515\n"
     ]
    }
   ],
   "source": [
    "print(np.mean(sim.log[\"In queue\"]))\n",
    "print(q.mean_queue_length)"
   ]
  },
  {
   "cell_type": "code",
   "execution_count": null,
   "metadata": {},
   "outputs": [],
   "source": [
    "np.max(sim.log[\"In queue\"])"
   ]
  },
  {
   "cell_type": "code",
   "execution_count": null,
   "metadata": {},
   "outputs": [],
   "source": [
    "c = 1\n",
    "A = queueing.arrival_process(\"M\", stats.poisson(1 / 0.9))\n",
    "S = queueing.service_process(\"M\", stats.expon(0))\n",
    "\n",
    "q = queueing.queue(A, S, c)\n",
    "print(\"Utilization:\", q.utilization)\n",
    "print(\"Mean wait:  \", q.mean_waiting_time)\n",
    "print(\"Mean queue: \", q.mean_queue_length)\n",
    "\n",
    "lala = q.mean_waiting_time * (1 / (1 / 0.9))\n",
    "print(\"Mean queue: \", lala)"
   ]
  },
  {
   "cell_type": "code",
   "execution_count": null,
   "metadata": {},
   "outputs": [],
   "source": [
    "c = 2\n",
    "A = queueing.arrival_process(\"M\", stats.poisson(1 / (c * 0.95)))\n",
    "S = queueing.service_process(\"M\", stats.expon(0))\n",
    "\n",
    "q = queueing.queue(A, S, c)\n",
    "print(\"Utilization:\", q.utilization)\n",
    "print(\"Mean wait:  \", q.mean_waiting_time)\n",
    "print(\"Mean queue: \", q.mean_queue_length)\n",
    "\n",
    "lala = q.mean_waiting_time * (1 / (1 / (c * 0.95)))\n",
    "print(\"Mean queue: \", lala)"
   ]
  },
  {
   "cell_type": "code",
   "execution_count": null,
   "metadata": {},
   "outputs": [],
   "source": [
    "c = 5\n",
    "A = queueing.arrival_process(\"M\", stats.poisson(1 / (c * 0.98)))\n",
    "S = queueing.service_process(\"M\", stats.expon(0))\n",
    "\n",
    "q = queueing.queue(A, S, c)\n",
    "print(\"Utilization:\", q.utilization)\n",
    "print(\"Mean wait:  \", q.mean_waiting_time)\n",
    "print(\"Mean queue: \", q.mean_queue_length)\n",
    "\n",
    "lala = q.mean_waiting_time * (1 / (1 / (c * 0.98)))\n",
    "print(\"Mean queue: \", lala)"
   ]
  }
 ],
 "metadata": {
  "kernelspec": {
   "display_name": "Python 3",
   "language": "python",
   "name": "python3"
  },
  "language_info": {
   "codemirror_mode": {
    "name": "ipython",
    "version": 3
   },
   "file_extension": ".py",
   "mimetype": "text/x-python",
   "name": "python",
   "nbconvert_exporter": "python",
   "pygments_lexer": "ipython3",
   "version": "3.7.0"
  }
 },
 "nbformat": 4,
 "nbformat_minor": 2
}
