{
 "cells": [
  {
   "cell_type": "markdown",
   "metadata": {},
   "source": [
    "# Example notebook for queueing simulation"
   ]
  },
  {
   "cell_type": "markdown",
   "metadata": {},
   "source": [
    "### 1. Imports"
   ]
  },
  {
   "cell_type": "code",
   "execution_count": 1,
   "metadata": {},
   "outputs": [],
   "source": [
    "from scipy import stats\n",
    "\n",
    "import pandas as pd\n",
    "import numpy as np\n",
    "\n",
    "import queueing\n",
    "\n",
    "import matplotlib.pyplot as plt"
   ]
  },
  {
   "cell_type": "markdown",
   "metadata": {},
   "source": [
    "### 2. Prepare inputs"
   ]
  },
  {
   "cell_type": "markdown",
   "metadata": {},
   "source": [
    "#### Specify the long term average IAT and ST in seconds"
   ]
  },
  {
   "cell_type": "code",
   "execution_count": 19,
   "metadata": {},
   "outputs": [
    {
     "name": "stdout",
     "output_type": "stream",
     "text": [
      "450.0\n",
      "400.0\n"
     ]
    }
   ],
   "source": [
    "# arrivals and services\n",
    "arrivals_per_hour = 8  # lambda\n",
    "services_per_hour = 9  # mu\n",
    "\n",
    "# inter arrival times and service times\n",
    "aver_IAT_in_secs = 3600 / arrivals_per_hour\n",
    "aver_ST_in_secs = 3600 / services_per_hour\n",
    "\n",
    "print(aver_IAT_in_secs)\n",
    "print(aver_ST_in_secs)"
   ]
  },
  {
   "cell_type": "markdown",
   "metadata": {},
   "source": [
    "#### Define the queue object input"
   ]
  },
  {
   "cell_type": "code",
   "execution_count": 20,
   "metadata": {},
   "outputs": [],
   "source": [
    "A = queueing.arrival_process(\"M\", stats.poisson(mu = aver_IAT_in_secs))\n",
    "S = queueing.service_process(\"M\", stats.expon(scale = aver_ST_in_secs))\n",
    "c = 1"
   ]
  },
  {
   "cell_type": "markdown",
   "metadata": {},
   "source": [
    "#### Create the queue object and use it to create a simulating object"
   ]
  },
  {
   "cell_type": "code",
   "execution_count": 21,
   "metadata": {
    "scrolled": false
   },
   "outputs": [],
   "source": [
    "# todo: enable deterministic analyses by adding a list of 'customer_name#', 'interarrival#' and 'servicetime#'\n",
    "q = queueing.queue(A, S, c)\n",
    "sim = queueing.simulation(q)"
   ]
  },
  {
   "cell_type": "markdown",
   "metadata": {},
   "source": [
    "### 3. Run the simulation"
   ]
  },
  {
   "cell_type": "code",
   "execution_count": 22,
   "metadata": {
    "scrolled": false
   },
   "outputs": [
    {
     "name": "stdout",
     "output_type": "stream",
     "text": [
      "Wall time: 12.7 s\n"
     ]
    }
   ],
   "source": [
    "%%time\n",
    "sim.run(100000) # nr is the number of customers that will arrive at the server"
   ]
  },
  {
   "cell_type": "markdown",
   "metadata": {},
   "source": [
    "### 4. Analyse and visualise results"
   ]
  },
  {
   "cell_type": "markdown",
   "metadata": {},
   "source": [
    "#### Get statistics"
   ]
  },
  {
   "cell_type": "code",
   "execution_count": 23,
   "metadata": {},
   "outputs": [
    {
     "name": "stdout",
     "output_type": "stream",
     "text": [
      "--- input statistics --------\n",
      "aver_IAT_in_secs: 450.00 [seconds]\n",
      "aver_ST_in_secs: 400.00 [seconds]\n",
      "\n",
      "--- simulation statistics ---\n",
      "Average IAT: 450.04 [seconds]\n",
      "Average ST: 399.80 [seconds]\n",
      "\n",
      "Total number of customers: 100000.00\n",
      "Average nr arrivals: 8.00 [# per hour]\n",
      "Average nr services: 9.00 [# per hour]\n",
      "\n",
      "Total waiting time: 143318468.88 [seconds]\n",
      "Average waiting time of all customers: 1433.18 [seconds]\n",
      "Average waiting time of customers that waited: 1823.41 [seconds]\n",
      "\n",
      "Probability of idle server (nobody in the system): 0.11\n",
      "Probability that somebody is waiting: 0.79\n",
      "Probability that nobody is waiting: 0.21\n",
      "Probability that 1 person is waiting: 0.17\n",
      "Probability that 2 persons are waiting: 0.13\n",
      "Probability that 3 persons are waiting: 0.10\n",
      "Probability that 9 persons are waiting (10 in system): 0.02\n",
      "\n",
      "Total service time: 39980171.62 [seconds]\n",
      "Average total time a customer spent in the system: 1832.99 [seconds]\n",
      "Average waiting time as a fraction of ST: 3.58\n",
      "\n",
      "System utilisation: 88.84\n"
     ]
    }
   ],
   "source": [
    "print('--- input statistics --------')\n",
    "print(\"aver_IAT_in_secs: {:.2f} [seconds]\".format(aver_IAT_in_secs))\n",
    "print(\"aver_ST_in_secs: {:.2f} [seconds]\".format(aver_ST_in_secs))\n",
    "print('')\n",
    "\n",
    "print('--- simulation statistics ---')\n",
    "sim.get_stats()"
   ]
  },
  {
   "cell_type": "markdown",
   "metadata": {},
   "source": [
    "**Analytical solution: M_M_1_inf_inf_FIFO**\n",
    "\n",
    "    arrival rate: 8.0000 per hour\n",
    "    service rate: 9.0000 per hour\n",
    "    rho: 0.8889\n",
    "\n",
    "    P_0: probability that there are 0 customers in the system = 0.1111\n",
    "    P_1: probability of 1 customers in the system = 0.0988\n",
    "    P_10: probability of 10 customers in the system = 0.0342\n",
    "\n",
    "    no_q: probability that there is nobody in the queue (P_0+P_1) = 0.2099\n",
    "    util_sys: system utilisation rate  (P_(n>=1)) = 0.8889\n",
    "    util_ser: server utilisation rate (P_(n>=2)) = 0.7901\n",
    "\n",
    "    L_s: the long term average number of customers present in the system = 8.0000\n",
    "    L_q: the long term average number of customers present in the queue = 7.1111\n",
    "    W_s: the long term average waiting time in the system = 1.0000 hour (= 60.0 minutes)\n",
    "    W_q: the long term average waiting time in the queue = 0.8889 hour (= 53.3 minutes)"
   ]
  },
  {
   "cell_type": "markdown",
   "metadata": {},
   "source": [
    "#### Return log"
   ]
  },
  {
   "cell_type": "code",
   "execution_count": 7,
   "metadata": {},
   "outputs": [
    {
     "data": {
      "text/html": [
       "<div>\n",
       "<style scoped>\n",
       "    .dataframe tbody tr th:only-of-type {\n",
       "        vertical-align: middle;\n",
       "    }\n",
       "\n",
       "    .dataframe tbody tr th {\n",
       "        vertical-align: top;\n",
       "    }\n",
       "\n",
       "    .dataframe thead th {\n",
       "        text-align: right;\n",
       "    }\n",
       "</style>\n",
       "<table border=\"1\" class=\"dataframe\">\n",
       "  <thead>\n",
       "    <tr style=\"text-align: right;\">\n",
       "      <th></th>\n",
       "      <th>c</th>\n",
       "      <th>IAT</th>\n",
       "      <th>ST</th>\n",
       "      <th>AT</th>\n",
       "      <th>TSB</th>\n",
       "      <th>TSE</th>\n",
       "      <th>TCSS</th>\n",
       "      <th>TCWQ</th>\n",
       "      <th>ITS</th>\n",
       "      <th>QL</th>\n",
       "    </tr>\n",
       "  </thead>\n",
       "  <tbody>\n",
       "    <tr>\n",
       "      <th>0</th>\n",
       "      <td>1</td>\n",
       "      <td>436</td>\n",
       "      <td>284.069291</td>\n",
       "      <td>436.0</td>\n",
       "      <td>436.000000</td>\n",
       "      <td>720.069291</td>\n",
       "      <td>284.069291</td>\n",
       "      <td>0.000000</td>\n",
       "      <td>436.000000</td>\n",
       "      <td>0</td>\n",
       "    </tr>\n",
       "    <tr>\n",
       "      <th>1</th>\n",
       "      <td>2</td>\n",
       "      <td>453</td>\n",
       "      <td>427.033762</td>\n",
       "      <td>889.0</td>\n",
       "      <td>889.000000</td>\n",
       "      <td>1316.033762</td>\n",
       "      <td>427.033762</td>\n",
       "      <td>0.000000</td>\n",
       "      <td>168.930709</td>\n",
       "      <td>1</td>\n",
       "    </tr>\n",
       "    <tr>\n",
       "      <th>2</th>\n",
       "      <td>3</td>\n",
       "      <td>422</td>\n",
       "      <td>147.388096</td>\n",
       "      <td>1311.0</td>\n",
       "      <td>1316.033762</td>\n",
       "      <td>1463.421858</td>\n",
       "      <td>152.421858</td>\n",
       "      <td>5.033762</td>\n",
       "      <td>0.000000</td>\n",
       "      <td>0</td>\n",
       "    </tr>\n",
       "    <tr>\n",
       "      <th>3</th>\n",
       "      <td>4</td>\n",
       "      <td>445</td>\n",
       "      <td>34.272535</td>\n",
       "      <td>1756.0</td>\n",
       "      <td>1756.000000</td>\n",
       "      <td>1790.272535</td>\n",
       "      <td>34.272535</td>\n",
       "      <td>0.000000</td>\n",
       "      <td>292.578142</td>\n",
       "      <td>0</td>\n",
       "    </tr>\n",
       "    <tr>\n",
       "      <th>4</th>\n",
       "      <td>5</td>\n",
       "      <td>441</td>\n",
       "      <td>120.704030</td>\n",
       "      <td>2197.0</td>\n",
       "      <td>2197.000000</td>\n",
       "      <td>2317.704030</td>\n",
       "      <td>120.704030</td>\n",
       "      <td>0.000000</td>\n",
       "      <td>406.727465</td>\n",
       "      <td>0</td>\n",
       "    </tr>\n",
       "    <tr>\n",
       "      <th>5</th>\n",
       "      <td>6</td>\n",
       "      <td>460</td>\n",
       "      <td>7.232574</td>\n",
       "      <td>2657.0</td>\n",
       "      <td>2657.000000</td>\n",
       "      <td>2664.232574</td>\n",
       "      <td>7.232574</td>\n",
       "      <td>0.000000</td>\n",
       "      <td>339.295970</td>\n",
       "      <td>0</td>\n",
       "    </tr>\n",
       "    <tr>\n",
       "      <th>6</th>\n",
       "      <td>7</td>\n",
       "      <td>427</td>\n",
       "      <td>309.389985</td>\n",
       "      <td>3084.0</td>\n",
       "      <td>3084.000000</td>\n",
       "      <td>3393.389985</td>\n",
       "      <td>309.389985</td>\n",
       "      <td>0.000000</td>\n",
       "      <td>419.767426</td>\n",
       "      <td>0</td>\n",
       "    </tr>\n",
       "    <tr>\n",
       "      <th>7</th>\n",
       "      <td>8</td>\n",
       "      <td>481</td>\n",
       "      <td>218.874608</td>\n",
       "      <td>3565.0</td>\n",
       "      <td>3565.000000</td>\n",
       "      <td>3783.874608</td>\n",
       "      <td>218.874608</td>\n",
       "      <td>0.000000</td>\n",
       "      <td>171.610015</td>\n",
       "      <td>0</td>\n",
       "    </tr>\n",
       "    <tr>\n",
       "      <th>8</th>\n",
       "      <td>9</td>\n",
       "      <td>496</td>\n",
       "      <td>804.472232</td>\n",
       "      <td>4061.0</td>\n",
       "      <td>4061.000000</td>\n",
       "      <td>4865.472233</td>\n",
       "      <td>804.472233</td>\n",
       "      <td>0.000000</td>\n",
       "      <td>277.125392</td>\n",
       "      <td>1</td>\n",
       "    </tr>\n",
       "    <tr>\n",
       "      <th>9</th>\n",
       "      <td>10</td>\n",
       "      <td>445</td>\n",
       "      <td>1308.055807</td>\n",
       "      <td>4506.0</td>\n",
       "      <td>4865.472233</td>\n",
       "      <td>6173.528039</td>\n",
       "      <td>1667.528039</td>\n",
       "      <td>359.472233</td>\n",
       "      <td>0.000000</td>\n",
       "      <td>3</td>\n",
       "    </tr>\n",
       "  </tbody>\n",
       "</table>\n",
       "</div>"
      ],
      "text/plain": [
       "    c  IAT           ST      AT          TSB          TSE         TCSS  \\\n",
       "0   1  436   284.069291   436.0   436.000000   720.069291   284.069291   \n",
       "1   2  453   427.033762   889.0   889.000000  1316.033762   427.033762   \n",
       "2   3  422   147.388096  1311.0  1316.033762  1463.421858   152.421858   \n",
       "3   4  445    34.272535  1756.0  1756.000000  1790.272535    34.272535   \n",
       "4   5  441   120.704030  2197.0  2197.000000  2317.704030   120.704030   \n",
       "5   6  460     7.232574  2657.0  2657.000000  2664.232574     7.232574   \n",
       "6   7  427   309.389985  3084.0  3084.000000  3393.389985   309.389985   \n",
       "7   8  481   218.874608  3565.0  3565.000000  3783.874608   218.874608   \n",
       "8   9  496   804.472232  4061.0  4061.000000  4865.472233   804.472233   \n",
       "9  10  445  1308.055807  4506.0  4865.472233  6173.528039  1667.528039   \n",
       "\n",
       "         TCWQ         ITS  QL  \n",
       "0    0.000000  436.000000   0  \n",
       "1    0.000000  168.930709   1  \n",
       "2    5.033762    0.000000   0  \n",
       "3    0.000000  292.578142   0  \n",
       "4    0.000000  406.727465   0  \n",
       "5    0.000000  339.295970   0  \n",
       "6    0.000000  419.767426   0  \n",
       "7    0.000000  171.610015   0  \n",
       "8    0.000000  277.125392   1  \n",
       "9  359.472233    0.000000   3  "
      ]
     },
     "execution_count": 7,
     "metadata": {},
     "output_type": "execute_result"
    }
   ],
   "source": [
    "sim.return_log(10)\n",
    "# c = customer\n",
    "# IAT = inter arrival time\n",
    "# ST = service time\n",
    "# AT = arrival time\n",
    "# TSB = time service begins\n",
    "# TSE = time service ends\n",
    "# TCSS = time customer spends in the system\n",
    "# TCWQ = time customer waits in the queue\n",
    "# ITS = idle time of the server\n",
    "# QL = queue length"
   ]
  },
  {
   "cell_type": "code",
   "execution_count": 26,
   "metadata": {
    "scrolled": false
   },
   "outputs": [
    {
     "data": {
      "image/png": "[encoded data removed]",
      "text/plain": [
       "<Figure size 1440x864 with 2 Axes>"
      ]
     },
     "metadata": {
      "needs_background": "light"
     },
     "output_type": "display_data"
    }
   ],
   "source": [
    "fig, (ax1, ax2) = plt.subplots(1, 2, figsize=(20, 12))\n",
    "\n",
    "fig.suptitle('Overview of stochastic variables')\n",
    "ax1.hist(sim.log[\"IAT\"],1000); ax1.set_title('IAT');\n",
    "ax2.hist(sim.log[\"ST\"],1000); ax2.set_title('ST');"
   ]
  },
  {
   "cell_type": "markdown",
   "metadata": {},
   "source": [
    "## Old notebook code"
   ]
  },
  {
   "cell_type": "code",
   "execution_count": null,
   "metadata": {},
   "outputs": [],
   "source": [
    "c = 20\n",
    "\n",
    "A = queueing.arrival_process(\"M\", stats.poisson(1 / (c * 0.9)))\n",
    "S = queueing.service_process(\"M\", stats.expon(0))\n",
    "q = queueing.queue(A, S, c)\n",
    "\n",
    "print(\"Mean waiting time:\", q.mean_waiting_time)\n",
    "print(\"Delay probability:\", q.delay_probability)"
   ]
  },
  {
   "cell_type": "code",
   "execution_count": null,
   "metadata": {},
   "outputs": [],
   "source": [
    "# https://www.win.tue.nl/~iadan/queueing.pdf Page 45, Table 5.1\n",
    "\n",
    "import numpy as np\n",
    "\n",
    "customers = [1, 2, 5, 10, 20]\n",
    "delay_probability = [0.90, 0.85, 0.76, 0.67, 0.55]\n",
    "mean_waiting_time = [9.00, 4.26, 1.53, 0.67, 0.28]\n",
    "\n",
    "for i, c in enumerate(customers):\n",
    "\n",
    "    # Arrival process varies dependent on number of customers\n",
    "    A = queueing.arrival_process(\"M\", stats.poisson(1 / (c * 0.9)))\n",
    "\n",
    "    # Mean service time is 1 unit of time\n",
    "    S = queueing.service_process(\"M\", stats.expon(0))\n",
    "\n",
    "    # Create queue\n",
    "    q = queueing.queue(A, S, c)\n",
    "    \n",
    "    \n",
    "    print(q.kendall_notation)\n",
    "    print(\"Utilization:      \", .9, q.utilization)\n",
    "    print(\"Delay probability:\", delay_probability[i], q.delay_probability)\n",
    "    print(\"Mean waiting time:\", mean_waiting_time[i], q.mean_waiting_time)\n",
    "    print(\"\")\n",
    "    \n",
    "\n",
    "\n",
    "    # Check results\n",
    "    assert np.isclose(0.9, q.utilization, rtol = 0.1, atol = 0.1)\n",
    "    assert np.isclose(delay_probability[i], q.delay_probability, rtol = 0.1, atol = 0.1)\n",
    "    assert np.isclose(mean_waiting_time[i], q.mean_waiting_time, rtol = 0.1, atol = 0.1)"
   ]
  },
  {
   "cell_type": "code",
   "execution_count": null,
   "metadata": {},
   "outputs": [],
   "source": [
    "# https://www.win.tue.nl/~iadan/queueing.pdf Page 45, Table 5.2\n",
    "\n",
    "import numpy as np\n",
    "\n",
    "customers = [1, 2, 5, 10, 20]\n",
    "utilization = [0.90, 0.95, 0.98, 0.99, 0.995]\n",
    "mean_waiting_time = [9.00, 9.26, 9.50, 9.64, 9.74]\n",
    "mean_queue_length = [9, 19, 51, 105, 214]\n",
    "\n",
    "for i, c in enumerate(customers):\n",
    "\n",
    "    # Arrival process varies dependent on number of customers\n",
    "    A = queueing.arrival_process(\"M\", stats.poisson(1 / (c * utilization[i])))\n",
    "\n",
    "    # Mean service time is 1 unit of time\n",
    "    S = queueing.service_process(\"M\", stats.expon(0))\n",
    "\n",
    "    # Create queue\n",
    "    q = queueing.queue(A, S, c)\n",
    "\n",
    "    # Check results\n",
    "    print(q.kendall_notation)\n",
    "    print(\"Utilization:      \", utilization[i], q.utilization)\n",
    "    print(\"Mean queue length:\", mean_queue_length[i], q.mean_queue_length)\n",
    "    print(\"Mean waiting time:\", mean_waiting_time[i], q.mean_waiting_time)\n",
    "    print(\"\")\n",
    "    \n",
    "    \n",
    "#     assert np.isclose(0.9, q.utilization, rtol = 0.1, atol = 0.1)\n",
    "#     assert np.isclose(mean_queue_length[i], q.mean_queue_length, rtol = 0.1, atol = 0.1)\n",
    "#     assert np.isclose(mean_waiting_time[i], q.mean_waiting_time, rtol = 0.2, atol = 0.2)"
   ]
  },
  {
   "cell_type": "code",
   "execution_count": null,
   "metadata": {},
   "outputs": [],
   "source": [
    "# c = customer\n",
    "# IAT = inter arrival time\n",
    "# AT = now + IAT\n",
    "# ST = service time\n",
    "# TSB = time service begins\n",
    "# TCWQ = time customer waits in the queue\n",
    "# TSE = time service ends\n",
    "# TCSS = time customer spends in the system\n",
    "# ITS = idle time of the server\n",
    "\n",
    "\n",
    "# customer, IAT, AT, ST, TSB, TCWQ, TSE, TCSS, ITS"
   ]
  },
  {
   "cell_type": "code",
   "execution_count": null,
   "metadata": {},
   "outputs": [],
   "source": []
  },
  {
   "cell_type": "code",
   "execution_count": null,
   "metadata": {},
   "outputs": [],
   "source": [
    "c = 2\n",
    "A = queueing.arrival_process(\"M\", stats.poisson(1 / (c * 0.95)))\n",
    "S = queueing.service_process(\"M\", stats.expon(0))\n",
    "\n",
    "q = queueing.queue(A, S, c)\n",
    "sim = queueing.simulation(q)"
   ]
  },
  {
   "cell_type": "code",
   "execution_count": null,
   "metadata": {},
   "outputs": [],
   "source": [
    "%%time\n",
    "sim.simulate(50)"
   ]
  },
  {
   "cell_type": "code",
   "execution_count": null,
   "metadata": {},
   "outputs": [],
   "source": [
    "sim.log"
   ]
  },
  {
   "cell_type": "code",
   "execution_count": null,
   "metadata": {},
   "outputs": [],
   "source": [
    "print(\"Simulation results:\")\n",
    "sim.get_stats()\n",
    "\n",
    "print(\"\\n------------------------------------------\\n\")\n",
    "\n",
    "print(\"Analytical solution:\")\n",
    "print(\"The arrival rate is:      {:04.2f} seconds\".format(sim.environment.queue.A.arrival_rate))\n",
    "print(\"The mean waiting time is: {:04.2f} seconds\".format(sim.environment.queue.mean_waiting_time))\n",
    "print(\"The mean service time is: {:04.2f} seconds\".format(sim.environment.queue.S.mean_service_time))"
   ]
  },
  {
   "cell_type": "code",
   "execution_count": null,
   "metadata": {},
   "outputs": [],
   "source": [
    "import pandas as pd"
   ]
  },
  {
   "cell_type": "code",
   "execution_count": null,
   "metadata": {},
   "outputs": [],
   "source": [
    "df=pd.DataFrame(data = sim.log)\n",
    "df"
   ]
  },
  {
   "cell_type": "code",
   "execution_count": null,
   "metadata": {},
   "outputs": [],
   "source": [
    "stats.poisson(1 / (c * 0.95)).rvs(10)"
   ]
  },
  {
   "cell_type": "code",
   "execution_count": null,
   "metadata": {},
   "outputs": [],
   "source": [
    "import numpy as np\n",
    "np.mean(stats.expon(0).rvs(10))"
   ]
  },
  {
   "cell_type": "code",
   "execution_count": null,
   "metadata": {},
   "outputs": [],
   "source": [
    "print(np.mean(sim.log[\"In queue\"]))\n",
    "print(q.mean_queue_length)"
   ]
  },
  {
   "cell_type": "code",
   "execution_count": null,
   "metadata": {},
   "outputs": [],
   "source": [
    "np.max(sim.log[\"In queue\"])"
   ]
  },
  {
   "cell_type": "markdown",
   "metadata": {},
   "source": [
    "### More complex queues"
   ]
  },
  {
   "cell_type": "code",
   "execution_count": null,
   "metadata": {},
   "outputs": [],
   "source": [
    "c = 1\n",
    "A = queueing.arrival_process(\"M\", stats.poisson(1 / 0.9))\n",
    "S = queueing.service_process(\"M\", stats.expon(0))\n",
    "\n",
    "q = queueing.queue(A, S, c)\n",
    "print(\"Utilization:\", q.utilization)\n",
    "print(\"Mean wait:  \", q.mean_waiting_time)\n",
    "print(\"Mean queue: \", q.mean_queue_length)\n",
    "\n",
    "sim_q = q.mean_waiting_time * (1 / (1 / 0.9))\n",
    "print(\"Mean queue: \", sim_q)"
   ]
  },
  {
   "cell_type": "code",
   "execution_count": null,
   "metadata": {},
   "outputs": [],
   "source": [
    "c = 2\n",
    "A = queueing.arrival_process(\"M\", stats.poisson(1 / (c * 0.95)))\n",
    "S = queueing.service_process(\"M\", stats.expon(0))\n",
    "\n",
    "q = queueing.queue(A, S, c)\n",
    "print(\"Utilization:\", q.utilization)\n",
    "print(\"Mean wait:  \", q.mean_waiting_time)\n",
    "print(\"Mean queue: \", q.mean_queue_length)\n",
    "\n",
    "sim_q = q.mean_waiting_time * (1 / (1 / (c * 0.95)))\n",
    "print(\"Mean queue: \", sim_q)"
   ]
  },
  {
   "cell_type": "code",
   "execution_count": null,
   "metadata": {},
   "outputs": [],
   "source": [
    "c = 5\n",
    "A = queueing.arrival_process(\"M\", stats.poisson(1 / (c * 0.98)))\n",
    "S = queueing.service_process(\"M\", stats.expon(0))\n",
    "\n",
    "q = queueing.queue(A, S, c)\n",
    "print(\"Utilization:\", q.utilization)\n",
    "print(\"Mean wait:  \", q.mean_waiting_time)\n",
    "print(\"Mean queue: \", q.mean_queue_length)\n",
    "\n",
    "sim_q = q.mean_waiting_time * (1 / (1 / (c * 0.98)))\n",
    "print(\"Mean queue: \", sim_q)"
   ]
  }
 ],
 "metadata": {
  "kernelspec": {
   "display_name": "Python 3",
   "language": "python",
   "name": "python3"
  },
  "language_info": {
   "codemirror_mode": {
    "name": "ipython",
    "version": 3
   },
   "file_extension": ".py",
   "mimetype": "text/x-python",
   "name": "python",
   "nbconvert_exporter": "python",
   "pygments_lexer": "ipython3",
   "version": "3.7.3"
  }
 },
 "nbformat": 4,
 "nbformat_minor": 2
}
