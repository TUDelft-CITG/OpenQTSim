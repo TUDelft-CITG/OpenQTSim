{
 "cells": [
  {
   "cell_type": "code",
   "execution_count": 1,
   "metadata": {},
   "outputs": [],
   "source": [
    "from scipy import stats\n",
    "import queueing"
   ]
  },
  {
   "cell_type": "code",
   "execution_count": 2,
   "metadata": {},
   "outputs": [],
   "source": [
    "A = queueing.arrival_process(\"M\", stats.poisson(1))\n",
    "S = queueing.service_process(\"M\", stats.expon(1))\n",
    "c = 3\n",
    "\n",
    "q = queueing.queue(A, S, c)\n",
    "sim = queueing.simulation(q)"
   ]
  },
  {
   "cell_type": "code",
   "execution_count": 3,
   "metadata": {},
   "outputs": [],
   "source": [
    "sim.simulate(10000)"
   ]
  },
  {
   "cell_type": "code",
   "execution_count": 4,
   "metadata": {},
   "outputs": [
    {
     "name": "stdout",
     "output_type": "stream",
     "text": [
      "The arrival rate is:      1.00 seconds\n",
      "The mean waiting time is: 0.54 seconds\n",
      "The mean service time is: 1.98 seconds\n",
      "\n",
      "------------------------------------------\n",
      "\n",
      "Compared to the statistical solution:\n",
      "The arrival rate is:      1.00 seconds\n",
      "The mean service time is: 2.00 seconds\n"
     ]
    }
   ],
   "source": [
    "sim.get_stats()\n",
    "\n",
    "print(\"\\n------------------------------------------\\n\")\n",
    "print(\"Compared to the statistical solution:\")\n",
    "print(\"The arrival rate is:      {:04.2f} seconds\".format(sim.environment.queue.A.arrival_rate))\n",
    "print(\"The mean service time is: {:04.2f} seconds\".format(sim.environment.queue.S.mean_service_time))"
   ]
  }
 ],
 "metadata": {
  "kernelspec": {
   "display_name": "Python 3",
   "language": "python",
   "name": "python3"
  },
  "language_info": {
   "codemirror_mode": {
    "name": "ipython",
    "version": 3
   },
   "file_extension": ".py",
   "mimetype": "text/x-python",
   "name": "python",
   "nbconvert_exporter": "python",
   "pygments_lexer": "ipython3",
   "version": "3.7.0"
  }
 },
 "nbformat": 4,
 "nbformat_minor": 2
}
