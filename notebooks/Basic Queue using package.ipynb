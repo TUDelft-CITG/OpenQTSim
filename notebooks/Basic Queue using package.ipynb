{
 "cells": [
  {
   "cell_type": "code",
   "execution_count": 1,
   "metadata": {},
   "outputs": [],
   "source": [
    "from scipy import stats\n",
    "import queueing"
   ]
  },
  {
   "cell_type": "code",
   "execution_count": 2,
   "metadata": {},
   "outputs": [
    {
     "name": "stdout",
     "output_type": "stream",
     "text": [
      "Mean waiting time: 0.27538450240805884\n",
      "Delay probability: 0.5507690048161176\n"
     ]
    }
   ],
   "source": [
    "c = 20\n",
    "\n",
    "A = queueing.arrival_process(\"M\", stats.poisson(1 / (c * 0.9)))\n",
    "S = queueing.service_process(\"M\", stats.expon(0))\n",
    "q = queueing.queue(A, S, c)\n",
    "\n",
    "print(\"Mean waiting time:\", q.mean_waiting_time)\n",
    "print(\"Delay probability:\", q.delay_probability)"
   ]
  },
  {
   "cell_type": "code",
   "execution_count": 3,
   "metadata": {},
   "outputs": [],
   "source": [
    "# https://www.win.tue.nl/~iadan/queueing.pdf Page 45, Table 5.1\n",
    "\n",
    "import numpy as np\n",
    "\n",
    "customers = [1, 2, 5, 10, 20]\n",
    "delay_probability = [0.90, 0.85, 0.76, 0.67, 0.55]\n",
    "mean_waiting_time = [9.00, 4.26, 1.53, 0.67, 0.28]\n",
    "\n",
    "for i, c in enumerate(customers):\n",
    "\n",
    "    # Arrival process varies dependent on number of customers\n",
    "    A = queueing.arrival_process(\"M\", stats.poisson(1 / (c * 0.9)))\n",
    "\n",
    "    # Mean service time is 1 unit of time\n",
    "    S = queueing.service_process(\"M\", stats.expon(0))\n",
    "\n",
    "    # Create queue\n",
    "    q = queueing.queue(A, S, c)\n",
    "\n",
    "    # Check results\n",
    "    assert np.isclose(0.9, q.utilization, rtol = 0.1, atol = 0.1)\n",
    "    assert np.isclose(delay_probability[i], q.delay_probability, rtol = 0.1, atol = 0.1)\n",
    "    assert np.isclose(mean_waiting_time[i], q.mean_waiting_time, rtol = 0.1, atol = 0.1)"
   ]
  },
  {
   "cell_type": "code",
   "execution_count": 7,
   "metadata": {},
   "outputs": [
    {
     "name": "stdout",
     "output_type": "stream",
     "text": [
      "Utilization:       0.9 0.8999999999999999\n",
      "Mean queue length: 9 8.09999999999999\n",
      "Mean waiting time: 9.0 8.999999999999991\n",
      "\n",
      "Utilization:       0.95 0.9500000000000001\n",
      "Mean queue length: 19 17.587179487179515\n",
      "Mean waiting time: 9.26 9.256410256410271\n",
      "\n",
      "Utilization:       0.98 0.9800000000000001\n",
      "Mean queue length: 51 46.56552861543942\n",
      "Mean waiting time: 9.5 9.503169105191718\n",
      "\n",
      "Utilization:       0.99 0.99\n",
      "Mean queue length: 105 95.41010361837444\n",
      "Mean waiting time: 9.64 9.637384203876206\n",
      "\n",
      "Utilization:       0.995 0.9949999999999999\n",
      "Mean queue length: 214 193.77280404516858\n",
      "Mean waiting time: 9.74 9.737326836440634\n",
      "\n"
     ]
    }
   ],
   "source": [
    "# https://www.win.tue.nl/~iadan/queueing.pdf Page 45, Table 5.2\n",
    "\n",
    "import numpy as np\n",
    "\n",
    "customers = [1, 2, 5, 10, 20]\n",
    "utilization = [0.90, 0.95, 0.98, 0.99, 0.995]\n",
    "mean_waiting_time = [9.00, 9.26, 9.50, 9.64, 9.74]\n",
    "mean_queue_length = [9, 19, 51, 105, 214]\n",
    "\n",
    "for i, c in enumerate(customers):\n",
    "\n",
    "    # Arrival process varies dependent on number of customers\n",
    "    A = queueing.arrival_process(\"M\", stats.poisson(1 / (c * utilization[i])))\n",
    "\n",
    "    # Mean service time is 1 unit of time\n",
    "    S = queueing.service_process(\"M\", stats.expon(0))\n",
    "\n",
    "    # Create queue\n",
    "    q = queueing.queue(A, S, c)\n",
    "\n",
    "    # Check results\n",
    "    print(\"Utilization:      \", utilization[i], q.utilization)\n",
    "    print(\"Mean queue length:\", mean_queue_length[i], q.mean_queue_length)\n",
    "    print(\"Mean waiting time:\", mean_waiting_time[i], q.mean_waiting_time)\n",
    "    print(\"\")\n",
    "    \n",
    "    \n",
    "#     assert np.isclose(0.9, q.utilization, rtol = 0.1, atol = 0.1)\n",
    "#     assert np.isclose(mean_queue_length[i], q.mean_queue_length, rtol = 0.1, atol = 0.1)\n",
    "#     assert np.isclose(mean_waiting_time[i], q.mean_waiting_time, rtol = 0.2, atol = 0.2)"
   ]
  },
  {
   "cell_type": "code",
   "execution_count": null,
   "metadata": {},
   "outputs": [],
   "source": []
  },
  {
   "cell_type": "code",
   "execution_count": null,
   "metadata": {},
   "outputs": [],
   "source": []
  },
  {
   "cell_type": "code",
   "execution_count": null,
   "metadata": {},
   "outputs": [],
   "source": [
    "c = 2\n",
    "A = queueing.arrival_process(\"M\", stats.poisson(1 / (c * 0.95)))\n",
    "S = queueing.service_process(\"M\", stats.expon(0))\n",
    "\n",
    "q = queueing.queue(A, S, c)\n",
    "sim = queueing.simulation(q)"
   ]
  },
  {
   "cell_type": "code",
   "execution_count": null,
   "metadata": {},
   "outputs": [],
   "source": [
    "%%time\n",
    "sim.simulate(500000)"
   ]
  },
  {
   "cell_type": "code",
   "execution_count": null,
   "metadata": {},
   "outputs": [],
   "source": [
    "print(\"Simulation results:\")\n",
    "sim.get_stats()\n",
    "\n",
    "print(\"\\n------------------------------------------\\n\")\n",
    "\n",
    "print(\"Analytical solution:\")\n",
    "print(\"The arrival rate is:      {:04.2f} seconds\".format(sim.environment.queue.A.arrival_rate))\n",
    "print(\"The mean waiting time is: {:04.2f} seconds\".format(sim.environment.queue.mean_waiting_time))\n",
    "print(\"The mean service time is: {:04.2f} seconds\".format(sim.environment.queue.S.mean_service_time))"
   ]
  },
  {
   "cell_type": "code",
   "execution_count": null,
   "metadata": {},
   "outputs": [],
   "source": [
    "stats.poisson(1 / (c * 0.95)).rvs(10)"
   ]
  },
  {
   "cell_type": "code",
   "execution_count": null,
   "metadata": {},
   "outputs": [],
   "source": [
    "import numpy as np\n",
    "np.mean(stats.expon(0).rvs(10))"
   ]
  },
  {
   "cell_type": "code",
   "execution_count": null,
   "metadata": {},
   "outputs": [],
   "source": [
    "print(np.mean(sim.log[\"In queue\"]))\n",
    "print(q.mean_queue_length)"
   ]
  },
  {
   "cell_type": "code",
   "execution_count": null,
   "metadata": {},
   "outputs": [],
   "source": [
    "np.max(sim.log[\"In queue\"])"
   ]
  },
  {
   "cell_type": "markdown",
   "metadata": {},
   "source": [
    "### More complex queues"
   ]
  },
  {
   "cell_type": "code",
   "execution_count": null,
   "metadata": {},
   "outputs": [],
   "source": [
    "c = 1\n",
    "A = queueing.arrival_process(\"M\", stats.poisson(1 / 0.9))\n",
    "S = queueing.service_process(\"M\", stats.expon(0))\n",
    "\n",
    "q = queueing.queue(A, S, c)\n",
    "print(\"Utilization:\", q.utilization)\n",
    "print(\"Mean wait:  \", q.mean_waiting_time)\n",
    "print(\"Mean queue: \", q.mean_queue_length)\n",
    "\n",
    "sim_q = q.mean_waiting_time * (1 / (1 / 0.9))\n",
    "print(\"Mean queue: \", sim_q)"
   ]
  },
  {
   "cell_type": "code",
   "execution_count": null,
   "metadata": {},
   "outputs": [],
   "source": [
    "c = 2\n",
    "A = queueing.arrival_process(\"M\", stats.poisson(1 / (c * 0.95)))\n",
    "S = queueing.service_process(\"M\", stats.expon(0))\n",
    "\n",
    "q = queueing.queue(A, S, c)\n",
    "print(\"Utilization:\", q.utilization)\n",
    "print(\"Mean wait:  \", q.mean_waiting_time)\n",
    "print(\"Mean queue: \", q.mean_queue_length)\n",
    "\n",
    "sim_q = q.mean_waiting_time * (1 / (1 / (c * 0.95)))\n",
    "print(\"Mean queue: \", sim_q)"
   ]
  },
  {
   "cell_type": "code",
   "execution_count": null,
   "metadata": {},
   "outputs": [],
   "source": [
    "c = 5\n",
    "A = queueing.arrival_process(\"M\", stats.poisson(1 / (c * 0.98)))\n",
    "S = queueing.service_process(\"M\", stats.expon(0))\n",
    "\n",
    "q = queueing.queue(A, S, c)\n",
    "print(\"Utilization:\", q.utilization)\n",
    "print(\"Mean wait:  \", q.mean_waiting_time)\n",
    "print(\"Mean queue: \", q.mean_queue_length)\n",
    "\n",
    "sim_q = q.mean_waiting_time * (1 / (1 / (c * 0.98)))\n",
    "print(\"Mean queue: \", sim_q)"
   ]
  }
 ],
 "metadata": {
  "kernelspec": {
   "display_name": "Python 3",
   "language": "python",
   "name": "python3"
  },
  "language_info": {
   "codemirror_mode": {
    "name": "ipython",
    "version": 3
   },
   "file_extension": ".py",
   "mimetype": "text/x-python",
   "name": "python",
   "nbconvert_exporter": "python",
   "pygments_lexer": "ipython3",
   "version": "3.7.3"
  }
 },
 "nbformat": 4,
 "nbformat_minor": 2
}
