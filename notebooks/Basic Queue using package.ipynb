{
 "cells": [
  {
   "cell_type": "code",
   "execution_count": 1,
   "metadata": {},
   "outputs": [],
   "source": [
    "from scipy import stats\n",
    "import queueing\n",
    "import pandas as pd\n",
    "import numpy as np\n",
    "import datetime, time\n",
    "import random"
   ]
  },
  {
   "cell_type": "code",
   "execution_count": 2,
   "metadata": {},
   "outputs": [],
   "source": [
    "# random.seed(4)"
   ]
  },
  {
   "cell_type": "code",
   "execution_count": 3,
   "metadata": {},
   "outputs": [],
   "source": [
    "inter_arrival_times_in_seconds = 3600/(8 - 1)\n",
    "avarage_services_times_in_seconds = 3600/(9 - 1)"
   ]
  },
  {
   "cell_type": "code",
   "execution_count": 4,
   "metadata": {},
   "outputs": [
    {
     "name": "stdout",
     "output_type": "stream",
     "text": [
      "inter_arrival_times_in_seconds: 514.2857142857143\n",
      "avarage_services_times_in_seconds: 450.0\n"
     ]
    }
   ],
   "source": [
    "print(\"inter_arrival_times_in_seconds:\",inter_arrival_times_in_seconds)\n",
    "print(\"avarage_services_times_in_seconds:\",avarage_services_times_in_seconds)"
   ]
  },
  {
   "cell_type": "code",
   "execution_count": 5,
   "metadata": {},
   "outputs": [],
   "source": [
    "A = queueing.arrival_process(\"M\", stats.poisson(mu = inter_arrival_times_in_seconds))\n",
    "S = queueing.service_process(\"M\", stats.expon(scale = avarage_services_times_in_seconds))\n",
    "c = 1"
   ]
  },
  {
   "cell_type": "code",
   "execution_count": 6,
   "metadata": {
    "scrolled": false
   },
   "outputs": [],
   "source": [
    "# todo: enable deterministic analyses by adding a list of 'customer_name#', 'interarrival#' and 'servicetime#'\n",
    "\n",
    "q = queueing.queue(A, S, c)\n",
    "sim = queueing.simulation(q, seed = 4)"
   ]
  },
  {
   "cell_type": "code",
   "execution_count": 7,
   "metadata": {
    "scrolled": false
   },
   "outputs": [
    {
     "name": "stdout",
     "output_type": "stream",
     "text": [
      "Simulation finished in 1:25:37\n",
      "Wall time: 2 ms\n"
     ]
    }
   ],
   "source": [
    "%%time\n",
    "sim.run(max_arrivals=5) # nr is the number of customers that will arrive at the server"
   ]
  },
  {
   "cell_type": "code",
   "execution_count": 8,
   "metadata": {},
   "outputs": [
    {
     "name": "stdout",
     "output_type": "stream",
     "text": [
      "The arrival rate is:      523.67 seconds\n",
      "The mean waiting time is: 332.52 seconds\n",
      "The mean service time is: 541.11 seconds\n"
     ]
    }
   ],
   "source": [
    "sim.get_stats()"
   ]
  },
  {
   "cell_type": "code",
   "execution_count": 9,
   "metadata": {},
   "outputs": [
    {
     "data": {
      "text/html": [
       "<div>\n",
       "<style scoped>\n",
       "    .dataframe tbody tr th:only-of-type {\n",
       "        vertical-align: middle;\n",
       "    }\n",
       "\n",
       "    .dataframe tbody tr th {\n",
       "        vertical-align: top;\n",
       "    }\n",
       "\n",
       "    .dataframe thead th {\n",
       "        text-align: right;\n",
       "    }\n",
       "</style>\n",
       "<table border=\"1\" class=\"dataframe\">\n",
       "  <thead>\n",
       "    <tr style=\"text-align: right;\">\n",
       "      <th></th>\n",
       "      <th>IAT</th>\n",
       "      <th>ST</th>\n",
       "      <th>AT</th>\n",
       "      <th>TSB</th>\n",
       "      <th>TCWQ</th>\n",
       "      <th>TSE</th>\n",
       "      <th>TCSS</th>\n",
       "      <th>ITS</th>\n",
       "    </tr>\n",
       "    <tr>\n",
       "      <th>c</th>\n",
       "      <th></th>\n",
       "      <th></th>\n",
       "      <th></th>\n",
       "      <th></th>\n",
       "      <th></th>\n",
       "      <th></th>\n",
       "      <th></th>\n",
       "      <th></th>\n",
       "    </tr>\n",
       "  </thead>\n",
       "  <tbody>\n",
       "    <tr>\n",
       "      <td>1</td>\n",
       "      <td>528</td>\n",
       "      <td>131.249917</td>\n",
       "      <td>528.0</td>\n",
       "      <td>528.000000</td>\n",
       "      <td>0.000000</td>\n",
       "      <td>659.249917</td>\n",
       "      <td>131.249917</td>\n",
       "      <td>0.000000</td>\n",
       "    </tr>\n",
       "    <tr>\n",
       "      <td>2</td>\n",
       "      <td>598</td>\n",
       "      <td>99.114333</td>\n",
       "      <td>1126.0</td>\n",
       "      <td>1126.000000</td>\n",
       "      <td>0.000000</td>\n",
       "      <td>1225.114333</td>\n",
       "      <td>99.114333</td>\n",
       "      <td>466.750083</td>\n",
       "    </tr>\n",
       "    <tr>\n",
       "      <td>3</td>\n",
       "      <td>510</td>\n",
       "      <td>4.062022</td>\n",
       "      <td>1636.0</td>\n",
       "      <td>1636.000000</td>\n",
       "      <td>0.000000</td>\n",
       "      <td>1640.062022</td>\n",
       "      <td>4.062022</td>\n",
       "      <td>410.885667</td>\n",
       "    </tr>\n",
       "    <tr>\n",
       "      <td>4</td>\n",
       "      <td>489</td>\n",
       "      <td>1412.332667</td>\n",
       "      <td>2125.0</td>\n",
       "      <td>2125.000000</td>\n",
       "      <td>0.000000</td>\n",
       "      <td>3537.332667</td>\n",
       "      <td>1412.332667</td>\n",
       "      <td>484.937978</td>\n",
       "    </tr>\n",
       "    <tr>\n",
       "      <td>5</td>\n",
       "      <td>507</td>\n",
       "      <td>694.444558</td>\n",
       "      <td>2632.0</td>\n",
       "      <td>3537.332667</td>\n",
       "      <td>905.332667</td>\n",
       "      <td>4231.777225</td>\n",
       "      <td>1599.777225</td>\n",
       "      <td>0.000000</td>\n",
       "    </tr>\n",
       "    <tr>\n",
       "      <td>6</td>\n",
       "      <td>510</td>\n",
       "      <td>905.434541</td>\n",
       "      <td>3142.0</td>\n",
       "      <td>4231.777225</td>\n",
       "      <td>1089.777225</td>\n",
       "      <td>5137.211766</td>\n",
       "      <td>1995.211766</td>\n",
       "      <td>0.000000</td>\n",
       "    </tr>\n",
       "  </tbody>\n",
       "</table>\n",
       "</div>"
      ],
      "text/plain": [
       "   IAT           ST      AT          TSB         TCWQ          TSE  \\\n",
       "c                                                                    \n",
       "1  528   131.249917   528.0   528.000000     0.000000   659.249917   \n",
       "2  598    99.114333  1126.0  1126.000000     0.000000  1225.114333   \n",
       "3  510     4.062022  1636.0  1636.000000     0.000000  1640.062022   \n",
       "4  489  1412.332667  2125.0  2125.000000     0.000000  3537.332667   \n",
       "5  507   694.444558  2632.0  3537.332667   905.332667  4231.777225   \n",
       "6  510   905.434541  3142.0  4231.777225  1089.777225  5137.211766   \n",
       "\n",
       "          TCSS         ITS  \n",
       "c                           \n",
       "1   131.249917    0.000000  \n",
       "2    99.114333  466.750083  \n",
       "3     4.062022  410.885667  \n",
       "4  1412.332667  484.937978  \n",
       "5  1599.777225    0.000000  \n",
       "6  1995.211766    0.000000  "
      ]
     },
     "execution_count": 9,
     "metadata": {},
     "output_type": "execute_result"
    }
   ],
   "source": [
    "sim.return_log()"
   ]
  },
  {
   "cell_type": "code",
   "execution_count": null,
   "metadata": {},
   "outputs": [],
   "source": []
  },
  {
   "cell_type": "code",
   "execution_count": 9,
   "metadata": {},
   "outputs": [],
   "source": [
    "np.random.seed(None)"
   ]
  },
  {
   "cell_type": "code",
   "execution_count": 8,
   "metadata": {},
   "outputs": [
    {
     "data": {
      "text/html": [
       "<div>\n",
       "<style scoped>\n",
       "    .dataframe tbody tr th:only-of-type {\n",
       "        vertical-align: middle;\n",
       "    }\n",
       "\n",
       "    .dataframe tbody tr th {\n",
       "        vertical-align: top;\n",
       "    }\n",
       "\n",
       "    .dataframe thead th {\n",
       "        text-align: right;\n",
       "    }\n",
       "</style>\n",
       "<table border=\"1\" class=\"dataframe\">\n",
       "  <thead>\n",
       "    <tr style=\"text-align: right;\">\n",
       "      <th></th>\n",
       "      <th>c</th>\n",
       "      <th>IAT</th>\n",
       "      <th>ST</th>\n",
       "      <th>AT</th>\n",
       "      <th>TSB</th>\n",
       "      <th>TCWQ</th>\n",
       "      <th>TSE</th>\n",
       "      <th>TCSS</th>\n",
       "      <th>ITS</th>\n",
       "    </tr>\n",
       "  </thead>\n",
       "  <tbody>\n",
       "    <tr>\n",
       "      <td>0</td>\n",
       "      <td>1</td>\n",
       "      <td>528</td>\n",
       "      <td>1683.541329</td>\n",
       "      <td>528.0</td>\n",
       "      <td>528.000000</td>\n",
       "      <td>0.000000</td>\n",
       "      <td>2211.541329</td>\n",
       "      <td>1683.541329</td>\n",
       "      <td>0</td>\n",
       "    </tr>\n",
       "    <tr>\n",
       "      <td>1</td>\n",
       "      <td>2</td>\n",
       "      <td>510</td>\n",
       "      <td>99.114333</td>\n",
       "      <td>1038.0</td>\n",
       "      <td>2211.541329</td>\n",
       "      <td>1173.541329</td>\n",
       "      <td>2310.655662</td>\n",
       "      <td>1272.655662</td>\n",
       "      <td>0</td>\n",
       "    </tr>\n",
       "    <tr>\n",
       "      <td>2</td>\n",
       "      <td>3</td>\n",
       "      <td>489</td>\n",
       "      <td>4.062022</td>\n",
       "      <td>1527.0</td>\n",
       "      <td>2310.655662</td>\n",
       "      <td>783.655662</td>\n",
       "      <td>2314.717684</td>\n",
       "      <td>787.717684</td>\n",
       "      <td>0</td>\n",
       "    </tr>\n",
       "    <tr>\n",
       "      <td>3</td>\n",
       "      <td>4</td>\n",
       "      <td>507</td>\n",
       "      <td>1412.332667</td>\n",
       "      <td>2034.0</td>\n",
       "      <td>2314.717684</td>\n",
       "      <td>280.717684</td>\n",
       "      <td>3727.050351</td>\n",
       "      <td>1693.050351</td>\n",
       "      <td>0</td>\n",
       "    </tr>\n",
       "    <tr>\n",
       "      <td>4</td>\n",
       "      <td>5</td>\n",
       "      <td>510</td>\n",
       "      <td>694.444558</td>\n",
       "      <td>2544.0</td>\n",
       "      <td>3727.050351</td>\n",
       "      <td>1183.050351</td>\n",
       "      <td>4421.494909</td>\n",
       "      <td>1877.494909</td>\n",
       "      <td>0</td>\n",
       "    </tr>\n",
       "    <tr>\n",
       "      <td>5</td>\n",
       "      <td>6</td>\n",
       "      <td>543</td>\n",
       "      <td>35.057683</td>\n",
       "      <td>3087.0</td>\n",
       "      <td>4421.494909</td>\n",
       "      <td>1334.494909</td>\n",
       "      <td>4456.552591</td>\n",
       "      <td>1369.552591</td>\n",
       "      <td>0</td>\n",
       "    </tr>\n",
       "  </tbody>\n",
       "</table>\n",
       "</div>"
      ],
      "text/plain": [
       "   c  IAT           ST      AT          TSB         TCWQ          TSE  \\\n",
       "0  1  528  1683.541329   528.0   528.000000     0.000000  2211.541329   \n",
       "1  2  510    99.114333  1038.0  2211.541329  1173.541329  2310.655662   \n",
       "2  3  489     4.062022  1527.0  2310.655662   783.655662  2314.717684   \n",
       "3  4  507  1412.332667  2034.0  2314.717684   280.717684  3727.050351   \n",
       "4  5  510   694.444558  2544.0  3727.050351  1183.050351  4421.494909   \n",
       "5  6  543    35.057683  3087.0  4421.494909  1334.494909  4456.552591   \n",
       "\n",
       "          TCSS  ITS  \n",
       "0  1683.541329    0  \n",
       "1  1272.655662    0  \n",
       "2   787.717684    0  \n",
       "3  1693.050351    0  \n",
       "4  1877.494909    0  \n",
       "5  1369.552591    0  "
      ]
     },
     "execution_count": 8,
     "metadata": {},
     "output_type": "execute_result"
    }
   ],
   "source": [
    "dataframe = pd.DataFrame.from_dict(sim.log)\n",
    "dataframe"
   ]
  },
  {
   "cell_type": "code",
   "execution_count": 9,
   "metadata": {},
   "outputs": [
    {
     "name": "stdout",
     "output_type": "stream",
     "text": [
      "Average IAT: 514.5\n",
      "Average ST: 654.7587652444208\n"
     ]
    }
   ],
   "source": [
    "print('Average IAT:', np.sum(sim.log[\"IAT\"])/sim.log[\"c\"][-1])\n",
    "print('Average ST:', np.sum(sim.log[\"ST\"])/sim.log[\"c\"][-1])"
   ]
  },
  {
   "cell_type": "code",
   "execution_count": 10,
   "metadata": {},
   "outputs": [
    {
     "name": "stdout",
     "output_type": "stream",
     "text": [
      "Total number of customers: 6\n",
      "Average service time: 654.7587652444208\n",
      "Average time between arrivals: 617.4\n",
      "\n",
      "Total waiting time: 4755.459935426712\n",
      "Average waiting time of all customers: 792.576655904452\n",
      "Average waiting time of customers that waited: 951.0919870853425\n",
      "Probability that customers are waiting: 0.8333333333333334\n",
      "\n",
      "Total service time: 3928.552591466525\n",
      "Average total time a customer spent in the system: 1447.3354211250942\n",
      "Probability of idle server: 0.0\n",
      "\n",
      "Server utilisation (%): 0.0\n"
     ]
    }
   ],
   "source": [
    "# https://www.youtube.com/watch?v=nDXD8oVelo4\n",
    "print('Total number of customers:', sim.log[\"c\"][-1])\n",
    "print('Average service time:', np.sum(sim.log[\"ST\"])/sim.log[\"c\"][-1])\n",
    "print('Average time between arrivals:', np.sum(sim.log[\"IAT\"])/(sim.log[\"c\"][-1]-1))\n",
    "print('')\n",
    "print('Total waiting time:', np.sum(sim.log[\"TCWQ\"]))\n",
    "print('Average waiting time of all customers:', np.sum(sim.log[\"TCWQ\"])/sim.log[\"c\"][-1])\n",
    "print('Average waiting time of customers that waited:', np.sum(sim.log[\"TCWQ\"])/np.sum(np.array(sim.log[\"TCWQ\"])!=0))\n",
    "print('Probability that customers are waiting:', np.sum(np.array(sim.log[\"TCWQ\"])!=0)/sim.log[\"c\"][-1])\n",
    "print('')\n",
    "print('Total service time:', np.sum(sim.log[\"ST\"]))\n",
    "print('Average total time a customer spent in the system:', np.sum(sim.log[\"TCSS\"])/sim.log[\"c\"][-1])\n",
    "print('Probability of idle server:', np.sum(sim.log[\"ITS\"])/sim.log[\"TSE\"][-1])\n",
    "\n",
    "# deze klopt niet helemaal lijkt het\n",
    "print('')\n",
    "print('Server utilisation (%):', (np.sum(sim.log[\"ITS\"])/np.sum(sim.log[\"TCSS\"])/sim.log[\"c\"][-1])*100)\n"
   ]
  },
  {
   "cell_type": "code",
   "execution_count": 11,
   "metadata": {},
   "outputs": [
    {
     "data": {
      "text/html": [
       "<div>\n",
       "<style scoped>\n",
       "    .dataframe tbody tr th:only-of-type {\n",
       "        vertical-align: middle;\n",
       "    }\n",
       "\n",
       "    .dataframe tbody tr th {\n",
       "        vertical-align: top;\n",
       "    }\n",
       "\n",
       "    .dataframe thead th {\n",
       "        text-align: right;\n",
       "    }\n",
       "</style>\n",
       "<table border=\"1\" class=\"dataframe\">\n",
       "  <thead>\n",
       "    <tr style=\"text-align: right;\">\n",
       "      <th></th>\n",
       "      <th>c</th>\n",
       "      <th>IAT</th>\n",
       "      <th>ST</th>\n",
       "      <th>AT</th>\n",
       "      <th>TSB</th>\n",
       "      <th>TCWQ</th>\n",
       "      <th>TSE</th>\n",
       "      <th>TCSS</th>\n",
       "      <th>ITS</th>\n",
       "    </tr>\n",
       "  </thead>\n",
       "  <tbody>\n",
       "    <tr>\n",
       "      <td>0</td>\n",
       "      <td>1</td>\n",
       "      <td>528</td>\n",
       "      <td>1683.541329</td>\n",
       "      <td>528.0</td>\n",
       "      <td>528.000000</td>\n",
       "      <td>0.000000</td>\n",
       "      <td>2211.541329</td>\n",
       "      <td>1683.541329</td>\n",
       "      <td>0</td>\n",
       "    </tr>\n",
       "    <tr>\n",
       "      <td>1</td>\n",
       "      <td>2</td>\n",
       "      <td>510</td>\n",
       "      <td>99.114333</td>\n",
       "      <td>1038.0</td>\n",
       "      <td>2211.541329</td>\n",
       "      <td>1173.541329</td>\n",
       "      <td>2310.655662</td>\n",
       "      <td>1272.655662</td>\n",
       "      <td>0</td>\n",
       "    </tr>\n",
       "    <tr>\n",
       "      <td>2</td>\n",
       "      <td>3</td>\n",
       "      <td>489</td>\n",
       "      <td>4.062022</td>\n",
       "      <td>1527.0</td>\n",
       "      <td>2310.655662</td>\n",
       "      <td>783.655662</td>\n",
       "      <td>2314.717684</td>\n",
       "      <td>787.717684</td>\n",
       "      <td>0</td>\n",
       "    </tr>\n",
       "    <tr>\n",
       "      <td>3</td>\n",
       "      <td>4</td>\n",
       "      <td>507</td>\n",
       "      <td>1412.332667</td>\n",
       "      <td>2034.0</td>\n",
       "      <td>2314.717684</td>\n",
       "      <td>280.717684</td>\n",
       "      <td>3727.050351</td>\n",
       "      <td>1693.050351</td>\n",
       "      <td>0</td>\n",
       "    </tr>\n",
       "    <tr>\n",
       "      <td>4</td>\n",
       "      <td>5</td>\n",
       "      <td>510</td>\n",
       "      <td>694.444558</td>\n",
       "      <td>2544.0</td>\n",
       "      <td>3727.050351</td>\n",
       "      <td>1183.050351</td>\n",
       "      <td>4421.494909</td>\n",
       "      <td>1877.494909</td>\n",
       "      <td>0</td>\n",
       "    </tr>\n",
       "    <tr>\n",
       "      <td>5</td>\n",
       "      <td>6</td>\n",
       "      <td>543</td>\n",
       "      <td>35.057683</td>\n",
       "      <td>3087.0</td>\n",
       "      <td>4421.494909</td>\n",
       "      <td>1334.494909</td>\n",
       "      <td>4456.552591</td>\n",
       "      <td>1369.552591</td>\n",
       "      <td>0</td>\n",
       "    </tr>\n",
       "  </tbody>\n",
       "</table>\n",
       "</div>"
      ],
      "text/plain": [
       "   c  IAT           ST      AT          TSB         TCWQ          TSE  \\\n",
       "0  1  528  1683.541329   528.0   528.000000     0.000000  2211.541329   \n",
       "1  2  510    99.114333  1038.0  2211.541329  1173.541329  2310.655662   \n",
       "2  3  489     4.062022  1527.0  2310.655662   783.655662  2314.717684   \n",
       "3  4  507  1412.332667  2034.0  2314.717684   280.717684  3727.050351   \n",
       "4  5  510   694.444558  2544.0  3727.050351  1183.050351  4421.494909   \n",
       "5  6  543    35.057683  3087.0  4421.494909  1334.494909  4456.552591   \n",
       "\n",
       "          TCSS  ITS  \n",
       "0  1683.541329    0  \n",
       "1  1272.655662    0  \n",
       "2   787.717684    0  \n",
       "3  1693.050351    0  \n",
       "4  1877.494909    0  \n",
       "5  1369.552591    0  "
      ]
     },
     "execution_count": 11,
     "metadata": {},
     "output_type": "execute_result"
    }
   ],
   "source": [
    "dataframe = pd.DataFrame.from_dict(sim.log)\n",
    "dataframe"
   ]
  },
  {
   "cell_type": "code",
   "execution_count": 12,
   "metadata": {},
   "outputs": [
    {
     "data": {
      "text/html": [
       "<div>\n",
       "<style scoped>\n",
       "    .dataframe tbody tr th:only-of-type {\n",
       "        vertical-align: middle;\n",
       "    }\n",
       "\n",
       "    .dataframe tbody tr th {\n",
       "        vertical-align: top;\n",
       "    }\n",
       "\n",
       "    .dataframe thead th {\n",
       "        text-align: right;\n",
       "    }\n",
       "</style>\n",
       "<table border=\"1\" class=\"dataframe\">\n",
       "  <thead>\n",
       "    <tr style=\"text-align: right;\">\n",
       "      <th></th>\n",
       "      <th>c</th>\n",
       "      <th>IAT</th>\n",
       "      <th>ST</th>\n",
       "      <th>AT</th>\n",
       "      <th>TSB</th>\n",
       "      <th>TCWQ</th>\n",
       "      <th>TSE</th>\n",
       "      <th>TCSS</th>\n",
       "      <th>ITS</th>\n",
       "    </tr>\n",
       "  </thead>\n",
       "  <tbody>\n",
       "    <tr>\n",
       "      <td>0</td>\n",
       "      <td>1</td>\n",
       "      <td>528</td>\n",
       "      <td>1683.541329</td>\n",
       "      <td>528.0</td>\n",
       "      <td>528.000000</td>\n",
       "      <td>0.000000</td>\n",
       "      <td>2211.541329</td>\n",
       "      <td>1683.541329</td>\n",
       "      <td>0</td>\n",
       "    </tr>\n",
       "    <tr>\n",
       "      <td>1</td>\n",
       "      <td>2</td>\n",
       "      <td>510</td>\n",
       "      <td>99.114333</td>\n",
       "      <td>1038.0</td>\n",
       "      <td>2211.541329</td>\n",
       "      <td>1173.541329</td>\n",
       "      <td>2310.655662</td>\n",
       "      <td>1272.655662</td>\n",
       "      <td>0</td>\n",
       "    </tr>\n",
       "    <tr>\n",
       "      <td>2</td>\n",
       "      <td>3</td>\n",
       "      <td>489</td>\n",
       "      <td>4.062022</td>\n",
       "      <td>1527.0</td>\n",
       "      <td>2310.655662</td>\n",
       "      <td>783.655662</td>\n",
       "      <td>2314.717684</td>\n",
       "      <td>787.717684</td>\n",
       "      <td>0</td>\n",
       "    </tr>\n",
       "    <tr>\n",
       "      <td>3</td>\n",
       "      <td>4</td>\n",
       "      <td>507</td>\n",
       "      <td>1412.332667</td>\n",
       "      <td>2034.0</td>\n",
       "      <td>2314.717684</td>\n",
       "      <td>280.717684</td>\n",
       "      <td>3727.050351</td>\n",
       "      <td>1693.050351</td>\n",
       "      <td>0</td>\n",
       "    </tr>\n",
       "    <tr>\n",
       "      <td>4</td>\n",
       "      <td>5</td>\n",
       "      <td>510</td>\n",
       "      <td>694.444558</td>\n",
       "      <td>2544.0</td>\n",
       "      <td>3727.050351</td>\n",
       "      <td>1183.050351</td>\n",
       "      <td>4421.494909</td>\n",
       "      <td>1877.494909</td>\n",
       "      <td>0</td>\n",
       "    </tr>\n",
       "    <tr>\n",
       "      <td>5</td>\n",
       "      <td>6</td>\n",
       "      <td>543</td>\n",
       "      <td>35.057683</td>\n",
       "      <td>3087.0</td>\n",
       "      <td>4421.494909</td>\n",
       "      <td>1334.494909</td>\n",
       "      <td>4456.552591</td>\n",
       "      <td>1369.552591</td>\n",
       "      <td>0</td>\n",
       "    </tr>\n",
       "  </tbody>\n",
       "</table>\n",
       "</div>"
      ],
      "text/plain": [
       "   c  IAT           ST      AT          TSB         TCWQ          TSE  \\\n",
       "0  1  528  1683.541329   528.0   528.000000     0.000000  2211.541329   \n",
       "1  2  510    99.114333  1038.0  2211.541329  1173.541329  2310.655662   \n",
       "2  3  489     4.062022  1527.0  2310.655662   783.655662  2314.717684   \n",
       "3  4  507  1412.332667  2034.0  2314.717684   280.717684  3727.050351   \n",
       "4  5  510   694.444558  2544.0  3727.050351  1183.050351  4421.494909   \n",
       "5  6  543    35.057683  3087.0  4421.494909  1334.494909  4456.552591   \n",
       "\n",
       "          TCSS  ITS  \n",
       "0  1683.541329    0  \n",
       "1  1272.655662    0  \n",
       "2   787.717684    0  \n",
       "3  1693.050351    0  \n",
       "4  1877.494909    0  \n",
       "5  1369.552591    0  "
      ]
     },
     "execution_count": 12,
     "metadata": {},
     "output_type": "execute_result"
    }
   ],
   "source": [
    "dataframe = pd.DataFrame.from_dict(sim.log)\n",
    "dataframe"
   ]
  },
  {
   "cell_type": "code",
   "execution_count": 13,
   "metadata": {
    "scrolled": false
   },
   "outputs": [
    {
     "data": {
      "text/html": [
       "<div>\n",
       "<style scoped>\n",
       "    .dataframe tbody tr th:only-of-type {\n",
       "        vertical-align: middle;\n",
       "    }\n",
       "\n",
       "    .dataframe tbody tr th {\n",
       "        vertical-align: top;\n",
       "    }\n",
       "\n",
       "    .dataframe thead th {\n",
       "        text-align: right;\n",
       "    }\n",
       "</style>\n",
       "<table border=\"1\" class=\"dataframe\">\n",
       "  <thead>\n",
       "    <tr style=\"text-align: right;\">\n",
       "      <th></th>\n",
       "      <th>c</th>\n",
       "      <th>IAT</th>\n",
       "      <th>ST</th>\n",
       "      <th>AT</th>\n",
       "      <th>TSB</th>\n",
       "      <th>TCWQ</th>\n",
       "      <th>TSE</th>\n",
       "      <th>TCSS</th>\n",
       "      <th>ITS</th>\n",
       "    </tr>\n",
       "  </thead>\n",
       "  <tbody>\n",
       "    <tr>\n",
       "      <td>0</td>\n",
       "      <td>1</td>\n",
       "      <td>528</td>\n",
       "      <td>1683.541329</td>\n",
       "      <td>528.0</td>\n",
       "      <td>528.000000</td>\n",
       "      <td>0.000000</td>\n",
       "      <td>2211.541329</td>\n",
       "      <td>1683.541329</td>\n",
       "      <td>0</td>\n",
       "    </tr>\n",
       "    <tr>\n",
       "      <td>1</td>\n",
       "      <td>2</td>\n",
       "      <td>510</td>\n",
       "      <td>99.114333</td>\n",
       "      <td>1038.0</td>\n",
       "      <td>2211.541329</td>\n",
       "      <td>1173.541329</td>\n",
       "      <td>2310.655662</td>\n",
       "      <td>1272.655662</td>\n",
       "      <td>0</td>\n",
       "    </tr>\n",
       "    <tr>\n",
       "      <td>2</td>\n",
       "      <td>3</td>\n",
       "      <td>489</td>\n",
       "      <td>4.062022</td>\n",
       "      <td>1527.0</td>\n",
       "      <td>2310.655662</td>\n",
       "      <td>783.655662</td>\n",
       "      <td>2314.717684</td>\n",
       "      <td>787.717684</td>\n",
       "      <td>0</td>\n",
       "    </tr>\n",
       "    <tr>\n",
       "      <td>3</td>\n",
       "      <td>4</td>\n",
       "      <td>507</td>\n",
       "      <td>1412.332667</td>\n",
       "      <td>2034.0</td>\n",
       "      <td>2314.717684</td>\n",
       "      <td>280.717684</td>\n",
       "      <td>3727.050351</td>\n",
       "      <td>1693.050351</td>\n",
       "      <td>0</td>\n",
       "    </tr>\n",
       "    <tr>\n",
       "      <td>4</td>\n",
       "      <td>5</td>\n",
       "      <td>510</td>\n",
       "      <td>694.444558</td>\n",
       "      <td>2544.0</td>\n",
       "      <td>3727.050351</td>\n",
       "      <td>1183.050351</td>\n",
       "      <td>4421.494909</td>\n",
       "      <td>1877.494909</td>\n",
       "      <td>0</td>\n",
       "    </tr>\n",
       "    <tr>\n",
       "      <td>5</td>\n",
       "      <td>6</td>\n",
       "      <td>543</td>\n",
       "      <td>35.057683</td>\n",
       "      <td>3087.0</td>\n",
       "      <td>4421.494909</td>\n",
       "      <td>1334.494909</td>\n",
       "      <td>4456.552591</td>\n",
       "      <td>1369.552591</td>\n",
       "      <td>0</td>\n",
       "    </tr>\n",
       "  </tbody>\n",
       "</table>\n",
       "</div>"
      ],
      "text/plain": [
       "   c  IAT           ST      AT          TSB         TCWQ          TSE  \\\n",
       "0  1  528  1683.541329   528.0   528.000000     0.000000  2211.541329   \n",
       "1  2  510    99.114333  1038.0  2211.541329  1173.541329  2310.655662   \n",
       "2  3  489     4.062022  1527.0  2310.655662   783.655662  2314.717684   \n",
       "3  4  507  1412.332667  2034.0  2314.717684   280.717684  3727.050351   \n",
       "4  5  510   694.444558  2544.0  3727.050351  1183.050351  4421.494909   \n",
       "5  6  543    35.057683  3087.0  4421.494909  1334.494909  4456.552591   \n",
       "\n",
       "          TCSS  ITS  \n",
       "0  1683.541329    0  \n",
       "1  1272.655662    0  \n",
       "2   787.717684    0  \n",
       "3  1693.050351    0  \n",
       "4  1877.494909    0  \n",
       "5  1369.552591    0  "
      ]
     },
     "execution_count": 13,
     "metadata": {},
     "output_type": "execute_result"
    }
   ],
   "source": [
    "# c = customer\n",
    "# IAT = inter arrival time\n",
    "# ST = service time\n",
    "# AT = now + IAT\n",
    "# TSB = time service begins\n",
    "# TCWQ = time customer waits in the queue\n",
    "# TSE = time service ends\n",
    "# TCSS = time customer spends in the system\n",
    "# ITS = idle time of the server\n",
    "\n",
    "sim.return_log()"
   ]
  },
  {
   "cell_type": "code",
   "execution_count": 14,
   "metadata": {},
   "outputs": [
    {
     "name": "stdout",
     "output_type": "stream",
     "text": [
      "Avarage number of customers in the system: 0.0013463321428498288\n"
     ]
    }
   ],
   "source": [
    "print('Avarage number of customers in the system:',sim.log[\"c\"][-1]/sim.log[\"TSE\"][-1])"
   ]
  },
  {
   "cell_type": "code",
   "execution_count": 15,
   "metadata": {},
   "outputs": [
    {
     "ename": "NameError",
     "evalue": "name 'plt' is not defined",
     "output_type": "error",
     "traceback": [
      "\u001b[1;31m---------------------------------------------------------------------------\u001b[0m",
      "\u001b[1;31mNameError\u001b[0m                                 Traceback (most recent call last)",
      "\u001b[1;32m<ipython-input-15-135e6669a19a>\u001b[0m in \u001b[0;36m<module>\u001b[1;34m\u001b[0m\n\u001b[1;32m----> 1\u001b[1;33m \u001b[0mplt\u001b[0m\u001b[1;33m.\u001b[0m\u001b[0mhist\u001b[0m\u001b[1;33m(\u001b[0m\u001b[0mnp\u001b[0m\u001b[1;33m.\u001b[0m\u001b[0marray\u001b[0m\u001b[1;33m(\u001b[0m\u001b[0msim\u001b[0m\u001b[1;33m.\u001b[0m\u001b[0mlog\u001b[0m\u001b[1;33m[\u001b[0m\u001b[1;34m\"IAT\"\u001b[0m\u001b[1;33m]\u001b[0m\u001b[1;33m)\u001b[0m\u001b[1;33m,\u001b[0m \u001b[1;36m50\u001b[0m\u001b[1;33m)\u001b[0m\u001b[1;33m\u001b[0m\u001b[1;33m\u001b[0m\u001b[0m\n\u001b[0m",
      "\u001b[1;31mNameError\u001b[0m: name 'plt' is not defined"
     ]
    }
   ],
   "source": [
    "plt.hist(np.array(sim.log[\"IAT\"]), 50)"
   ]
  },
  {
   "cell_type": "code",
   "execution_count": null,
   "metadata": {},
   "outputs": [],
   "source": [
    "stats.expon(scale=8)"
   ]
  },
  {
   "cell_type": "code",
   "execution_count": null,
   "metadata": {},
   "outputs": [],
   "source": [
    "stats.poisson(1 / (c * rho)), mu=8)"
   ]
  },
  {
   "cell_type": "code",
   "execution_count": null,
   "metadata": {},
   "outputs": [],
   "source": [
    "plt.hist(np.array(sim.log[\"ST\"]), 50)"
   ]
  },
  {
   "cell_type": "code",
   "execution_count": null,
   "metadata": {},
   "outputs": [],
   "source": [
    "*** M_M_1_inf_inf_FIFO ***\n",
    "arrival rate: 8.0000 per hour\n",
    "service rate: 9.0000 per hour\n",
    "rho: 0.8889\n",
    "\n",
    "P_0: probability that there are 0 customers in the system = 0.1111\n",
    "P_1: probability of 1 customers in the system = 0.0988\n",
    "P_10: probability of 10 customers in the system = 0.0342\n",
    "\n",
    "no_q: probability that there is nobody in the queue (P_0+P_1) = 0.2099\n",
    "util_sys: system utilisation rate  (P_(n>=1)) = 0.8889\n",
    "util_ser: server utilisation rate (P_(n>=2)) = 0.7901\n",
    "\n",
    "L_s: the long term average number of customers present in the system = 8.0000\n",
    "L_q: the long term average number of customers present in the queue = 7.1111\n",
    "W_s: the long term average waiting time in the system = 1.0000 hour (= 60.0 minutes)\n",
    "W_q: the long term average waiting time in the queue = 0.8889 hour (= 53.3 minutes)"
   ]
  },
  {
   "cell_type": "code",
   "execution_count": null,
   "metadata": {},
   "outputs": [],
   "source": [
    "average_service_time = np.sum(sim.log[\"ST\"])"
   ]
  },
  {
   "cell_type": "code",
   "execution_count": null,
   "metadata": {},
   "outputs": [],
   "source": [
    "import matplotlib.pyplot as plt\n",
    "\n",
    "fig, ax = plt.subplots(1, 1)\n",
    "x = np.linspace(stats.expon.ppf(0.01, scale=8),\n",
    "                 stats.expon.ppf(0.99,scale=8), 100)\n",
    "ax.plot(x, stats.expon.pdf(x),\n",
    "        'r-', lw=5, alpha=0.6, label='expon pdf')"
   ]
  },
  {
   "cell_type": "code",
   "execution_count": null,
   "metadata": {},
   "outputs": [],
   "source": [
    "/sim.log[\"c\"][-1] - 1"
   ]
  },
  {
   "cell_type": "code",
   "execution_count": null,
   "metadata": {},
   "outputs": [],
   "source": [
    "Average_waiting_time = "
   ]
  },
  {
   "cell_type": "code",
   "execution_count": null,
   "metadata": {},
   "outputs": [],
   "source": [
    "c = 20\n",
    "\n",
    "A = queueing.arrival_process(\"M\", stats.poisson(1 / (c * 0.9)))\n",
    "S = queueing.service_process(\"M\", stats.expon(0))\n",
    "q = queueing.queue(A, S, c)\n",
    "\n",
    "print(\"Mean waiting time:\", q.mean_waiting_time)\n",
    "print(\"Delay probability:\", q.delay_probability)"
   ]
  },
  {
   "cell_type": "code",
   "execution_count": null,
   "metadata": {},
   "outputs": [],
   "source": [
    "# https://www.win.tue.nl/~iadan/queueing.pdf Page 45, Table 5.1\n",
    "\n",
    "import numpy as np\n",
    "\n",
    "customers = [1, 2, 5, 10, 20]\n",
    "delay_probability = [0.90, 0.85, 0.76, 0.67, 0.55]\n",
    "mean_waiting_time = [9.00, 4.26, 1.53, 0.67, 0.28]\n",
    "\n",
    "for i, c in enumerate(customers):\n",
    "\n",
    "    # Arrival process varies dependent on number of customers\n",
    "    A = queueing.arrival_process(\"M\", stats.poisson(1 / (c * 0.9)))\n",
    "\n",
    "    # Mean service time is 1 unit of time\n",
    "    S = queueing.service_process(\"M\", stats.expon(0))\n",
    "\n",
    "    # Create queue\n",
    "    q = queueing.queue(A, S, c)\n",
    "    \n",
    "    \n",
    "    print(q.kendall_notation)\n",
    "    print(\"Utilization:      \", .9, q.utilization)\n",
    "    print(\"Delay probability:\", delay_probability[i], q.delay_probability)\n",
    "    print(\"Mean waiting time:\", mean_waiting_time[i], q.mean_waiting_time)\n",
    "    print(\"\")\n",
    "    \n",
    "\n",
    "\n",
    "    # Check results\n",
    "    assert np.isclose(0.9, q.utilization, rtol = 0.1, atol = 0.1)\n",
    "    assert np.isclose(delay_probability[i], q.delay_probability, rtol = 0.1, atol = 0.1)\n",
    "    assert np.isclose(mean_waiting_time[i], q.mean_waiting_time, rtol = 0.1, atol = 0.1)"
   ]
  },
  {
   "cell_type": "code",
   "execution_count": null,
   "metadata": {},
   "outputs": [],
   "source": [
    "# https://www.win.tue.nl/~iadan/queueing.pdf Page 45, Table 5.2\n",
    "\n",
    "import numpy as np\n",
    "\n",
    "customers = [1, 2, 5, 10, 20]\n",
    "utilization = [0.90, 0.95, 0.98, 0.99, 0.995]\n",
    "mean_waiting_time = [9.00, 9.26, 9.50, 9.64, 9.74]\n",
    "mean_queue_length = [9, 19, 51, 105, 214]\n",
    "\n",
    "for i, c in enumerate(customers):\n",
    "\n",
    "    # Arrival process varies dependent on number of customers\n",
    "    A = queueing.arrival_process(\"M\", stats.poisson(1 / (c * utilization[i])))\n",
    "\n",
    "    # Mean service time is 1 unit of time\n",
    "    S = queueing.service_process(\"M\", stats.expon(0))\n",
    "\n",
    "    # Create queue\n",
    "    q = queueing.queue(A, S, c)\n",
    "\n",
    "    # Check results\n",
    "    print(q.kendall_notation)\n",
    "    print(\"Utilization:      \", utilization[i], q.utilization)\n",
    "    print(\"Mean queue length:\", mean_queue_length[i], q.mean_queue_length)\n",
    "    print(\"Mean waiting time:\", mean_waiting_time[i], q.mean_waiting_time)\n",
    "    print(\"\")\n",
    "    \n",
    "    \n",
    "#     assert np.isclose(0.9, q.utilization, rtol = 0.1, atol = 0.1)\n",
    "#     assert np.isclose(mean_queue_length[i], q.mean_queue_length, rtol = 0.1, atol = 0.1)\n",
    "#     assert np.isclose(mean_waiting_time[i], q.mean_waiting_time, rtol = 0.2, atol = 0.2)"
   ]
  },
  {
   "cell_type": "code",
   "execution_count": null,
   "metadata": {},
   "outputs": [],
   "source": [
    "# c = customer\n",
    "# IAT = inter arrival time\n",
    "# AT = now + IAT\n",
    "# ST = service time\n",
    "# TSB = time service begins\n",
    "# TCWQ = time customer waits in the queue\n",
    "# TSE = time service ends\n",
    "# TCSS = time customer spends in the system\n",
    "# ITS = idle time of the server\n",
    "\n",
    "\n",
    "# customer, IAT, AT, ST, TSB, TCWQ, TSE, TCSS, ITS"
   ]
  },
  {
   "cell_type": "code",
   "execution_count": null,
   "metadata": {},
   "outputs": [],
   "source": []
  },
  {
   "cell_type": "code",
   "execution_count": null,
   "metadata": {},
   "outputs": [],
   "source": [
    "c = 2\n",
    "A = queueing.arrival_process(\"M\", stats.poisson(1 / (c * 0.95)))\n",
    "S = queueing.service_process(\"M\", stats.expon(0))\n",
    "\n",
    "q = queueing.queue(A, S, c)\n",
    "sim = queueing.simulation(q)"
   ]
  },
  {
   "cell_type": "code",
   "execution_count": null,
   "metadata": {},
   "outputs": [],
   "source": [
    "%%time\n",
    "sim.simulate(50)"
   ]
  },
  {
   "cell_type": "code",
   "execution_count": null,
   "metadata": {},
   "outputs": [],
   "source": [
    "sim.log"
   ]
  },
  {
   "cell_type": "code",
   "execution_count": null,
   "metadata": {},
   "outputs": [],
   "source": [
    "print(\"Simulation results:\")\n",
    "sim.get_stats()\n",
    "\n",
    "print(\"\\n------------------------------------------\\n\")\n",
    "\n",
    "print(\"Analytical solution:\")\n",
    "print(\"The arrival rate is:      {:04.2f} seconds\".format(sim.environment.queue.A.arrival_rate))\n",
    "print(\"The mean waiting time is: {:04.2f} seconds\".format(sim.environment.queue.mean_waiting_time))\n",
    "print(\"The mean service time is: {:04.2f} seconds\".format(sim.environment.queue.S.mean_service_time))"
   ]
  },
  {
   "cell_type": "code",
   "execution_count": null,
   "metadata": {},
   "outputs": [],
   "source": [
    "import pandas as pd"
   ]
  },
  {
   "cell_type": "code",
   "execution_count": null,
   "metadata": {},
   "outputs": [],
   "source": [
    "df=pd.DataFrame(data = sim.log)\n",
    "df"
   ]
  },
  {
   "cell_type": "code",
   "execution_count": null,
   "metadata": {},
   "outputs": [],
   "source": [
    "stats.poisson(1 / (c * 0.95)).rvs(10)"
   ]
  },
  {
   "cell_type": "code",
   "execution_count": null,
   "metadata": {},
   "outputs": [],
   "source": [
    "import numpy as np\n",
    "np.mean(stats.expon(0).rvs(10))"
   ]
  },
  {
   "cell_type": "code",
   "execution_count": null,
   "metadata": {},
   "outputs": [],
   "source": [
    "print(np.mean(sim.log[\"In queue\"]))\n",
    "print(q.mean_queue_length)"
   ]
  },
  {
   "cell_type": "code",
   "execution_count": null,
   "metadata": {},
   "outputs": [],
   "source": [
    "np.max(sim.log[\"In queue\"])"
   ]
  },
  {
   "cell_type": "markdown",
   "metadata": {},
   "source": [
    "### More complex queues"
   ]
  },
  {
   "cell_type": "code",
   "execution_count": null,
   "metadata": {},
   "outputs": [],
   "source": [
    "c = 1\n",
    "A = queueing.arrival_process(\"M\", stats.poisson(1 / 0.9))\n",
    "S = queueing.service_process(\"M\", stats.expon(0))\n",
    "\n",
    "q = queueing.queue(A, S, c)\n",
    "print(\"Utilization:\", q.utilization)\n",
    "print(\"Mean wait:  \", q.mean_waiting_time)\n",
    "print(\"Mean queue: \", q.mean_queue_length)\n",
    "\n",
    "sim_q = q.mean_waiting_time * (1 / (1 / 0.9))\n",
    "print(\"Mean queue: \", sim_q)"
   ]
  },
  {
   "cell_type": "code",
   "execution_count": null,
   "metadata": {},
   "outputs": [],
   "source": [
    "c = 2\n",
    "A = queueing.arrival_process(\"M\", stats.poisson(1 / (c * 0.95)))\n",
    "S = queueing.service_process(\"M\", stats.expon(0))\n",
    "\n",
    "q = queueing.queue(A, S, c)\n",
    "print(\"Utilization:\", q.utilization)\n",
    "print(\"Mean wait:  \", q.mean_waiting_time)\n",
    "print(\"Mean queue: \", q.mean_queue_length)\n",
    "\n",
    "sim_q = q.mean_waiting_time * (1 / (1 / (c * 0.95)))\n",
    "print(\"Mean queue: \", sim_q)"
   ]
  },
  {
   "cell_type": "code",
   "execution_count": null,
   "metadata": {},
   "outputs": [],
   "source": [
    "c = 5\n",
    "A = queueing.arrival_process(\"M\", stats.poisson(1 / (c * 0.98)))\n",
    "S = queueing.service_process(\"M\", stats.expon(0))\n",
    "\n",
    "q = queueing.queue(A, S, c)\n",
    "print(\"Utilization:\", q.utilization)\n",
    "print(\"Mean wait:  \", q.mean_waiting_time)\n",
    "print(\"Mean queue: \", q.mean_queue_length)\n",
    "\n",
    "sim_q = q.mean_waiting_time * (1 / (1 / (c * 0.98)))\n",
    "print(\"Mean queue: \", sim_q)"
   ]
  }
 ],
 "metadata": {
  "kernelspec": {
   "display_name": "Python 3",
   "language": "python",
   "name": "python3"
  },
  "language_info": {
   "codemirror_mode": {
    "name": "ipython",
    "version": 3
   },
   "file_extension": ".py",
   "mimetype": "text/x-python",
   "name": "python",
   "nbconvert_exporter": "python",
   "pygments_lexer": "ipython3",
   "version": "3.7.3"
  }
 },
 "nbformat": 4,
 "nbformat_minor": 2
}
