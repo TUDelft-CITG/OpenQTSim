{
 "cells": [
  {
   "cell_type": "markdown",
   "metadata": {},
   "source": [
    "## Generating 'average waiting time in units service time' tables"
   ]
  },
  {
   "cell_type": "markdown",
   "metadata": {},
   "source": [
    "This notebook uses the multi thread engine of the OpenQTSim package to start up multiple processes for the parallel processing of a list of tasks. \n",
    "\n",
    "This particular example notebook produces the typical 'average waiting time in units service time' tables that are presented in the PIANC 2014 guideline for example. You can experiment with different distributions for the interarrival and service times. Currently implemented are:\n",
    "* 'M': Exponential distribution, \n",
    "* 'E2': Erlang 2 distribution.\n",
    "\n",
    "NB: the table becomes more accurate when a larger number of arrivals (nr_arr) is simulated. Obviously there is a tradeoff between accuracy and calculation time."
   ]
  },
  {
   "cell_type": "markdown",
   "metadata": {},
   "source": [
    "### Create task list and perform calculations"
   ]
  },
  {
   "cell_type": "code",
   "execution_count": 3,
   "metadata": {},
   "outputs": [
    {
     "name": "stdout",
     "output_type": "stream",
     "text": [
      "Wall time: 11 s\n"
     ]
    }
   ],
   "source": [
    "%%time\n",
    "if __name__ == '__main__': # protect your program's entry point\n",
    "    \n",
    "    import pandas as pd\n",
    "    import numpy as np\n",
    "    import openqtsim\n",
    "\n",
    "    from multiprocessing import Pool\n",
    "    from openqtsim.mt_engine import worker, Task\n",
    "\n",
    "    # every instance will be run with nr_arr number of customers\n",
    "    nr_arr = 200     # nr of customers to simulate\n",
    "    A = 'E2'            # distribution of inter arrival times (M: exponential, E2: erlang 2)\n",
    "    S = 'E2'            # distribution of service times (M: exponential, E2: erlang 2)\n",
    "    nr_servers = 2    # nr of servers to consider (1 to nr_servers)\n",
    "\n",
    "    # --- servers to loop through ---\n",
    "    # make an array of the nr of servers to loop through\n",
    "    servers =  np.array(range(1, nr_servers + 1))\n",
    "\n",
    "    # --- utilisations to loop through ---\n",
    "    # lambdas are selected to be ranging from 1 to 9\n",
    "    lambdas = np.array(range(1,10))\n",
    "\n",
    "    # mu is selected to always be 10 \n",
    "    mu=10\n",
    "    \n",
    "    # the lambdas divided by mu provide the utilisations to loop through\n",
    "    utilisations = lambdas / mu\n",
    "\n",
    "    tasks=[]\n",
    "    # one by one add tasks to the 'tasks' list\n",
    "    for index, lam in enumerate(lambdas):\n",
    "        for c in servers:\n",
    "            tasks.append(Task(A, S, c, nr_arr, lam, mu))\n",
    "\n",
    "    # select nr of processes that will carry out tasks submitted to Pool\n",
    "    p = Pool(8)\n",
    "    \n",
    "    # map the worker with tasks list to the Pool \n",
    "    result = p.map(worker, tasks)\n",
    "    \n",
    "    # close processes in the Pool\n",
    "    p.close()"
   ]
  },
  {
   "cell_type": "markdown",
   "metadata": {},
   "source": [
    "### Reshape 'result' variable to the desired table format"
   ]
  },
  {
   "cell_type": "code",
   "execution_count": 4,
   "metadata": {},
   "outputs": [
    {
     "data": {
      "text/html": [
       "<div>\n",
       "<style scoped>\n",
       "    .dataframe tbody tr th:only-of-type {\n",
       "        vertical-align: middle;\n",
       "    }\n",
       "\n",
       "    .dataframe tbody tr th {\n",
       "        vertical-align: top;\n",
       "    }\n",
       "\n",
       "    .dataframe thead th {\n",
       "        text-align: right;\n",
       "    }\n",
       "</style>\n",
       "<table border=\"1\" class=\"dataframe\">\n",
       "  <thead>\n",
       "    <tr style=\"text-align: right;\">\n",
       "      <th>c</th>\n",
       "      <th>1</th>\n",
       "      <th>2</th>\n",
       "    </tr>\n",
       "    <tr>\n",
       "      <th>utilisation</th>\n",
       "      <th></th>\n",
       "      <th></th>\n",
       "    </tr>\n",
       "  </thead>\n",
       "  <tbody>\n",
       "    <tr>\n",
       "      <th>0.1</th>\n",
       "      <td>0.005462</td>\n",
       "      <td>0.004592</td>\n",
       "    </tr>\n",
       "    <tr>\n",
       "      <th>0.2</th>\n",
       "      <td>0.079680</td>\n",
       "      <td>0.002702</td>\n",
       "    </tr>\n",
       "    <tr>\n",
       "      <th>0.3</th>\n",
       "      <td>0.110735</td>\n",
       "      <td>0.033831</td>\n",
       "    </tr>\n",
       "    <tr>\n",
       "      <th>0.4</th>\n",
       "      <td>0.265583</td>\n",
       "      <td>0.098641</td>\n",
       "    </tr>\n",
       "    <tr>\n",
       "      <th>0.5</th>\n",
       "      <td>0.433858</td>\n",
       "      <td>0.244470</td>\n",
       "    </tr>\n",
       "    <tr>\n",
       "      <th>0.6</th>\n",
       "      <td>0.417339</td>\n",
       "      <td>0.185663</td>\n",
       "    </tr>\n",
       "    <tr>\n",
       "      <th>0.7</th>\n",
       "      <td>2.372936</td>\n",
       "      <td>0.957660</td>\n",
       "    </tr>\n",
       "    <tr>\n",
       "      <th>0.8</th>\n",
       "      <td>2.031976</td>\n",
       "      <td>0.274866</td>\n",
       "    </tr>\n",
       "    <tr>\n",
       "      <th>0.9</th>\n",
       "      <td>1.825695</td>\n",
       "      <td>0.891668</td>\n",
       "    </tr>\n",
       "  </tbody>\n",
       "</table>\n",
       "</div>"
      ],
      "text/plain": [
       "c                   1         2\n",
       "utilisation                    \n",
       "0.1          0.005462  0.004592\n",
       "0.2          0.079680  0.002702\n",
       "0.3          0.110735  0.033831\n",
       "0.4          0.265583  0.098641\n",
       "0.5          0.433858  0.244470\n",
       "0.6          0.417339  0.185663\n",
       "0.7          2.372936  0.957660\n",
       "0.8          2.031976  0.274866\n",
       "0.9          1.825695  0.891668"
      ]
     },
     "execution_count": 4,
     "metadata": {},
     "output_type": "execute_result"
    }
   ],
   "source": [
    "# organise results into a table of waiting times as a factor of service time\n",
    "df = pd.DataFrame(tasks)\n",
    "df['result'] = result\n",
    "df['utilisation'] = df.lam / df.mu\n",
    "\n",
    "df.pivot('utilisation', 'c', values='result')"
   ]
  },
  {
   "cell_type": "code",
   "execution_count": null,
   "metadata": {},
   "outputs": [],
   "source": []
  }
 ],
 "metadata": {
  "kernelspec": {
   "display_name": "Python 3",
   "language": "python",
   "name": "python3"
  },
  "language_info": {
   "codemirror_mode": {
    "name": "ipython",
    "version": 3
   },
   "file_extension": ".py",
   "mimetype": "text/x-python",
   "name": "python",
   "nbconvert_exporter": "python",
   "pygments_lexer": "ipython3",
   "version": "3.7.3"
  }
 },
 "nbformat": 4,
 "nbformat_minor": 4
}
