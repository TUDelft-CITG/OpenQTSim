{
 "cells": [
  {
   "cell_type": "markdown",
   "metadata": {},
   "source": [
    "# Queueing theory - D/D/1 example"
   ]
  },
  {
   "cell_type": "markdown",
   "metadata": {},
   "source": [
    "This notebook provides an example how to set up a queueing simulation. Input that needs to be specified are:\n",
    "* 'Lambda': the number of arrivals per hour \n",
    "* 'Mu': the number of departures (services completed) per hour\n",
    "* 'c': the number of servers in the system\n",
    "\n",
    "To further characterise the queueing behaviour in the system the user has to specify the probability distributions that characterise the interarrival and service times. This notebook describes a D/D/1 queue (according to the Kendall notation for queueing systems) where both the interarrival times and the service times are assumed to be deterministic (or known).  \n",
    "\n",
    "Currently implemented distributions are:\n",
    "Currently implemented distributions are:\n",
    "* 'M': Exponential distribution, \n",
    "* 'E2': Erlang 2 distribution,\n",
    "* 'D': Deterministic lists with known input\n",
    "\n",
    "NB: the calculation becomes more accurate when a larger number of arrivals (nr_arr) is simulated. Obviously there is a tradeoff between accuracy and calculation time."
   ]
  },
  {
   "cell_type": "markdown",
   "metadata": {},
   "source": [
    "### 1. Imports"
   ]
  },
  {
   "cell_type": "code",
   "execution_count": 3,
   "metadata": {},
   "outputs": [],
   "source": [
    "import openqtsim\n",
    "\n",
    "import pandas as pd\n",
    "import xlrd"
   ]
  },
  {
   "cell_type": "markdown",
   "metadata": {},
   "source": [
    "### 2. Prepare inputs"
   ]
  },
  {
   "cell_type": "markdown",
   "metadata": {},
   "source": [
    "#### Read IAT and ST table from Excel"
   ]
  },
  {
   "cell_type": "code",
   "execution_count": 4,
   "metadata": {},
   "outputs": [
    {
     "data": {
      "text/html": [
       "<div>\n",
       "<style scoped>\n",
       "    .dataframe tbody tr th:only-of-type {\n",
       "        vertical-align: middle;\n",
       "    }\n",
       "\n",
       "    .dataframe tbody tr th {\n",
       "        vertical-align: top;\n",
       "    }\n",
       "\n",
       "    .dataframe thead th {\n",
       "        text-align: right;\n",
       "    }\n",
       "</style>\n",
       "<table border=\"1\" class=\"dataframe\">\n",
       "  <thead>\n",
       "    <tr style=\"text-align: right;\">\n",
       "      <th></th>\n",
       "      <th>name</th>\n",
       "      <th>IAT</th>\n",
       "      <th>ST</th>\n",
       "      <th>AT</th>\n",
       "      <th>maxwait</th>\n",
       "      <th>unloading</th>\n",
       "      <th>loading</th>\n",
       "      <th>length</th>\n",
       "    </tr>\n",
       "  </thead>\n",
       "  <tbody>\n",
       "    <tr>\n",
       "      <th>0</th>\n",
       "      <td>Yellowstar</td>\n",
       "      <td>48</td>\n",
       "      <td>72</td>\n",
       "      <td>48</td>\n",
       "      <td>24</td>\n",
       "      <td>48</td>\n",
       "      <td>24</td>\n",
       "      <td>80</td>\n",
       "    </tr>\n",
       "    <tr>\n",
       "      <th>1</th>\n",
       "      <td>United</td>\n",
       "      <td>0</td>\n",
       "      <td>120</td>\n",
       "      <td>48</td>\n",
       "      <td>48</td>\n",
       "      <td>24</td>\n",
       "      <td>96</td>\n",
       "      <td>80</td>\n",
       "    </tr>\n",
       "    <tr>\n",
       "      <th>2</th>\n",
       "      <td>Oil Trade</td>\n",
       "      <td>72</td>\n",
       "      <td>48</td>\n",
       "      <td>120</td>\n",
       "      <td>24</td>\n",
       "      <td>48</td>\n",
       "      <td>0</td>\n",
       "      <td>100</td>\n",
       "    </tr>\n",
       "    <tr>\n",
       "      <th>3</th>\n",
       "      <td>Yellowstar</td>\n",
       "      <td>96</td>\n",
       "      <td>72</td>\n",
       "      <td>216</td>\n",
       "      <td>24</td>\n",
       "      <td>48</td>\n",
       "      <td>24</td>\n",
       "      <td>80</td>\n",
       "    </tr>\n",
       "    <tr>\n",
       "      <th>4</th>\n",
       "      <td>Fruit Trade</td>\n",
       "      <td>0</td>\n",
       "      <td>144</td>\n",
       "      <td>216</td>\n",
       "      <td>0</td>\n",
       "      <td>72</td>\n",
       "      <td>72</td>\n",
       "      <td>90</td>\n",
       "    </tr>\n",
       "  </tbody>\n",
       "</table>\n",
       "</div>"
      ],
      "text/plain": [
       "          name  IAT   ST   AT  maxwait  unloading  loading  length\n",
       "0   Yellowstar   48   72   48       24         48       24      80\n",
       "1       United    0  120   48       48         24       96      80\n",
       "2    Oil Trade   72   48  120       24         48        0     100\n",
       "3   Yellowstar   96   72  216       24         48       24      80\n",
       "4  Fruit Trade    0  144  216        0         72       72      90"
      ]
     },
     "execution_count": 4,
     "metadata": {},
     "output_type": "execute_result"
    }
   ],
   "source": [
    "df = pd.read_excel('OpenQTSim - D D 1 example.xlsx', index_col=None, header=0, sheet_name='data')\n",
    "df.head(5)"
   ]
  },
  {
   "cell_type": "markdown",
   "metadata": {},
   "source": [
    "#### Define the queue object input"
   ]
  },
  {
   "cell_type": "code",
   "execution_count": 5,
   "metadata": {},
   "outputs": [],
   "source": [
    "A = openqtsim.ArrivalProcess(\"D\", df[[\"name\",\"IAT\",\"AT\"]])\n",
    "S = openqtsim.ServiceProcess(\"D\", df[[\"name\",\"ST\"]])\n",
    "c = 1"
   ]
  },
  {
   "cell_type": "markdown",
   "metadata": {},
   "source": [
    "#### Create the queue object and use it to create a simulating object"
   ]
  },
  {
   "cell_type": "code",
   "execution_count": 6,
   "metadata": {},
   "outputs": [
    {
     "data": {
      "text/plain": [
       "'D/D/1/inf/inf/FIFO'"
      ]
     },
     "execution_count": 6,
     "metadata": {},
     "output_type": "execute_result"
    }
   ],
   "source": [
    "# todo: enable deterministic analyses by adding a list of 'customer_name#', 'interarrival#' and 'servicetime#'\n",
    "q = openqtsim.Queue(A, S, c)\n",
    "q.kendall_notation"
   ]
  },
  {
   "cell_type": "markdown",
   "metadata": {},
   "source": [
    "### 3. Run the simulation"
   ]
  },
  {
   "cell_type": "code",
   "execution_count": 7,
   "metadata": {},
   "outputs": [
    {
     "name": "stdout",
     "output_type": "stream",
     "text": [
      "Start simulation of \"D/D/1/inf/inf/FIFO\" queue\n",
      "\n",
      "Wall time: 163 ms\n"
     ]
    }
   ],
   "source": [
    "%%time\n",
    "print('Start simulation of \"{}\" queue'.format(q.kendall_notation))\n",
    "print('')\n",
    "\n",
    "sim = openqtsim.Simulation(q)\n",
    "sim.run(len(df[\"IAT\"])-1) # nr is the number of customers that will arrive at the server"
   ]
  },
  {
   "cell_type": "code",
   "execution_count": 8,
   "metadata": {},
   "outputs": [
    {
     "name": "stdout",
     "output_type": "stream",
     "text": [
      "Waiting time over service time: 6.5736\n",
      "\n",
      "Rho_system: system utilisation: 0.9847\n",
      "Rho_server: server utilisation: 0.9847\n",
      "P_0: probability nobody in the system: 0.0153\n",
      "\n",
      "L_s: average nr of customers in the system: 7.491803278688525\n",
      "L_q: average nr of customers in the queue: 6.60655737704918\n",
      "W_s: the long term average time spent in the system: 781.6000\n",
      "W_q: the long term average time spent in the queue: 678.4000\n",
      "\n",
      "IAT: average inter arrival time: 69.5172\n",
      "ST: average service time: 103.2000\n",
      "\n"
     ]
    }
   ],
   "source": [
    "sim.get_stats()"
   ]
  },
  {
   "cell_type": "markdown",
   "metadata": {},
   "source": [
    "#### Plot IAT and ST"
   ]
  },
  {
   "cell_type": "code",
   "execution_count": 9,
   "metadata": {},
   "outputs": [
    {
     "data": {
      "image/png": "[encoded data removed]",
      "text/plain": [
       "<Figure size 1008x360 with 1 Axes>"
      ]
     },
     "metadata": {
      "needs_background": "light"
     },
     "output_type": "display_data"
    }
   ],
   "source": [
    "sim.plot_system_state()"
   ]
  },
  {
   "cell_type": "code",
   "execution_count": 10,
   "metadata": {},
   "outputs": [],
   "source": [
    "df, df_sys = sim.return_log()"
   ]
  },
  {
   "cell_type": "code",
   "execution_count": 11,
   "metadata": {},
   "outputs": [
    {
     "data": {
      "text/html": [
       "<div>\n",
       "<style scoped>\n",
       "    .dataframe tbody tr th:only-of-type {\n",
       "        vertical-align: middle;\n",
       "    }\n",
       "\n",
       "    .dataframe tbody tr th {\n",
       "        vertical-align: top;\n",
       "    }\n",
       "\n",
       "    .dataframe thead th {\n",
       "        text-align: right;\n",
       "    }\n",
       "</style>\n",
       "<table border=\"1\" class=\"dataframe\">\n",
       "  <thead>\n",
       "    <tr style=\"text-align: right;\">\n",
       "      <th></th>\n",
       "      <th>c_id</th>\n",
       "      <th>IAT</th>\n",
       "      <th>ST</th>\n",
       "      <th>AT</th>\n",
       "      <th>TSB</th>\n",
       "      <th>TSE</th>\n",
       "      <th>TCSS</th>\n",
       "      <th>TCWQ</th>\n",
       "      <th>ITS</th>\n",
       "      <th>s_id</th>\n",
       "    </tr>\n",
       "  </thead>\n",
       "  <tbody>\n",
       "    <tr>\n",
       "      <th>0</th>\n",
       "      <td>1</td>\n",
       "      <td>48</td>\n",
       "      <td>120</td>\n",
       "      <td>48.0</td>\n",
       "      <td>48.0</td>\n",
       "      <td>168.0</td>\n",
       "      <td>120.0</td>\n",
       "      <td>0.0</td>\n",
       "      <td>48.0</td>\n",
       "      <td>1</td>\n",
       "    </tr>\n",
       "    <tr>\n",
       "      <th>1</th>\n",
       "      <td>2</td>\n",
       "      <td>0</td>\n",
       "      <td>48</td>\n",
       "      <td>48.0</td>\n",
       "      <td>168.0</td>\n",
       "      <td>216.0</td>\n",
       "      <td>168.0</td>\n",
       "      <td>120.0</td>\n",
       "      <td>0.0</td>\n",
       "      <td>1</td>\n",
       "    </tr>\n",
       "    <tr>\n",
       "      <th>2</th>\n",
       "      <td>3</td>\n",
       "      <td>72</td>\n",
       "      <td>72</td>\n",
       "      <td>120.0</td>\n",
       "      <td>216.0</td>\n",
       "      <td>288.0</td>\n",
       "      <td>168.0</td>\n",
       "      <td>96.0</td>\n",
       "      <td>0.0</td>\n",
       "      <td>1</td>\n",
       "    </tr>\n",
       "    <tr>\n",
       "      <th>3</th>\n",
       "      <td>4</td>\n",
       "      <td>96</td>\n",
       "      <td>144</td>\n",
       "      <td>216.0</td>\n",
       "      <td>288.0</td>\n",
       "      <td>432.0</td>\n",
       "      <td>216.0</td>\n",
       "      <td>72.0</td>\n",
       "      <td>0.0</td>\n",
       "      <td>1</td>\n",
       "    </tr>\n",
       "    <tr>\n",
       "      <th>4</th>\n",
       "      <td>5</td>\n",
       "      <td>0</td>\n",
       "      <td>168</td>\n",
       "      <td>216.0</td>\n",
       "      <td>432.0</td>\n",
       "      <td>600.0</td>\n",
       "      <td>384.0</td>\n",
       "      <td>216.0</td>\n",
       "      <td>0.0</td>\n",
       "      <td>1</td>\n",
       "    </tr>\n",
       "    <tr>\n",
       "      <th>5</th>\n",
       "      <td>6</td>\n",
       "      <td>72</td>\n",
       "      <td>72</td>\n",
       "      <td>288.0</td>\n",
       "      <td>600.0</td>\n",
       "      <td>672.0</td>\n",
       "      <td>384.0</td>\n",
       "      <td>312.0</td>\n",
       "      <td>0.0</td>\n",
       "      <td>1</td>\n",
       "    </tr>\n",
       "    <tr>\n",
       "      <th>6</th>\n",
       "      <td>7</td>\n",
       "      <td>96</td>\n",
       "      <td>120</td>\n",
       "      <td>384.0</td>\n",
       "      <td>672.0</td>\n",
       "      <td>792.0</td>\n",
       "      <td>408.0</td>\n",
       "      <td>288.0</td>\n",
       "      <td>0.0</td>\n",
       "      <td>1</td>\n",
       "    </tr>\n",
       "    <tr>\n",
       "      <th>7</th>\n",
       "      <td>8</td>\n",
       "      <td>48</td>\n",
       "      <td>144</td>\n",
       "      <td>432.0</td>\n",
       "      <td>792.0</td>\n",
       "      <td>936.0</td>\n",
       "      <td>504.0</td>\n",
       "      <td>360.0</td>\n",
       "      <td>0.0</td>\n",
       "      <td>1</td>\n",
       "    </tr>\n",
       "    <tr>\n",
       "      <th>8</th>\n",
       "      <td>9</td>\n",
       "      <td>24</td>\n",
       "      <td>72</td>\n",
       "      <td>456.0</td>\n",
       "      <td>936.0</td>\n",
       "      <td>1008.0</td>\n",
       "      <td>552.0</td>\n",
       "      <td>480.0</td>\n",
       "      <td>0.0</td>\n",
       "      <td>1</td>\n",
       "    </tr>\n",
       "    <tr>\n",
       "      <th>9</th>\n",
       "      <td>10</td>\n",
       "      <td>96</td>\n",
       "      <td>48</td>\n",
       "      <td>552.0</td>\n",
       "      <td>1008.0</td>\n",
       "      <td>1056.0</td>\n",
       "      <td>504.0</td>\n",
       "      <td>456.0</td>\n",
       "      <td>0.0</td>\n",
       "      <td>1</td>\n",
       "    </tr>\n",
       "  </tbody>\n",
       "</table>\n",
       "</div>"
      ],
      "text/plain": [
       "   c_id  IAT   ST     AT     TSB     TSE   TCSS   TCWQ   ITS  s_id\n",
       "0     1   48  120   48.0    48.0   168.0  120.0    0.0  48.0     1\n",
       "1     2    0   48   48.0   168.0   216.0  168.0  120.0   0.0     1\n",
       "2     3   72   72  120.0   216.0   288.0  168.0   96.0   0.0     1\n",
       "3     4   96  144  216.0   288.0   432.0  216.0   72.0   0.0     1\n",
       "4     5    0  168  216.0   432.0   600.0  384.0  216.0   0.0     1\n",
       "5     6   72   72  288.0   600.0   672.0  384.0  312.0   0.0     1\n",
       "6     7   96  120  384.0   672.0   792.0  408.0  288.0   0.0     1\n",
       "7     8   48  144  432.0   792.0   936.0  504.0  360.0   0.0     1\n",
       "8     9   24   72  456.0   936.0  1008.0  552.0  480.0   0.0     1\n",
       "9    10   96   48  552.0  1008.0  1056.0  504.0  456.0   0.0     1"
      ]
     },
     "execution_count": 11,
     "metadata": {},
     "output_type": "execute_result"
    }
   ],
   "source": [
    "df.head(10)\n",
    "\n",
    "# Meaning of the columns:\n",
    "# c_id: customer id\n",
    "# IAT: interarrival time \n",
    "# ST: service time \n",
    "# AT: arrival time \n",
    "# TSB: time service begins\n",
    "# TSE: time service ends \n",
    "# TCSS: time customer spends in the system\n",
    "# TCWQ: time customer waits int he queue\n",
    "# ITS: idle time server\n",
    "# s_id: id of server assigned to customer"
   ]
  },
  {
   "cell_type": "code",
   "execution_count": 12,
   "metadata": {},
   "outputs": [
    {
     "data": {
      "text/html": [
       "<div>\n",
       "<style scoped>\n",
       "    .dataframe tbody tr th:only-of-type {\n",
       "        vertical-align: middle;\n",
       "    }\n",
       "\n",
       "    .dataframe tbody tr th {\n",
       "        vertical-align: top;\n",
       "    }\n",
       "\n",
       "    .dataframe thead th {\n",
       "        text-align: right;\n",
       "    }\n",
       "</style>\n",
       "<table border=\"1\" class=\"dataframe\">\n",
       "  <thead>\n",
       "    <tr style=\"text-align: right;\">\n",
       "      <th></th>\n",
       "      <th>t</th>\n",
       "      <th>c_s</th>\n",
       "      <th>c_q</th>\n",
       "    </tr>\n",
       "  </thead>\n",
       "  <tbody>\n",
       "    <tr>\n",
       "      <th>0</th>\n",
       "      <td>0.0</td>\n",
       "      <td>0</td>\n",
       "      <td>0</td>\n",
       "    </tr>\n",
       "    <tr>\n",
       "      <th>1</th>\n",
       "      <td>48.0</td>\n",
       "      <td>2</td>\n",
       "      <td>1</td>\n",
       "    </tr>\n",
       "    <tr>\n",
       "      <th>2</th>\n",
       "      <td>48.0</td>\n",
       "      <td>2</td>\n",
       "      <td>2</td>\n",
       "    </tr>\n",
       "    <tr>\n",
       "      <th>4</th>\n",
       "      <td>120.0</td>\n",
       "      <td>3</td>\n",
       "      <td>2</td>\n",
       "    </tr>\n",
       "    <tr>\n",
       "      <th>3</th>\n",
       "      <td>168.0</td>\n",
       "      <td>2</td>\n",
       "      <td>1</td>\n",
       "    </tr>\n",
       "    <tr>\n",
       "      <th>5</th>\n",
       "      <td>216.0</td>\n",
       "      <td>3</td>\n",
       "      <td>2</td>\n",
       "    </tr>\n",
       "    <tr>\n",
       "      <th>6</th>\n",
       "      <td>216.0</td>\n",
       "      <td>3</td>\n",
       "      <td>2</td>\n",
       "    </tr>\n",
       "    <tr>\n",
       "      <th>8</th>\n",
       "      <td>216.0</td>\n",
       "      <td>3</td>\n",
       "      <td>3</td>\n",
       "    </tr>\n",
       "    <tr>\n",
       "      <th>7</th>\n",
       "      <td>288.0</td>\n",
       "      <td>3</td>\n",
       "      <td>2</td>\n",
       "    </tr>\n",
       "    <tr>\n",
       "      <th>10</th>\n",
       "      <td>288.0</td>\n",
       "      <td>4</td>\n",
       "      <td>3</td>\n",
       "    </tr>\n",
       "  </tbody>\n",
       "</table>\n",
       "</div>"
      ],
      "text/plain": [
       "        t  c_s  c_q\n",
       "0     0.0    0    0\n",
       "1    48.0    2    1\n",
       "2    48.0    2    2\n",
       "4   120.0    3    2\n",
       "3   168.0    2    1\n",
       "5   216.0    3    2\n",
       "6   216.0    3    2\n",
       "8   216.0    3    3\n",
       "7   288.0    3    2\n",
       "10  288.0    4    3"
      ]
     },
     "execution_count": 12,
     "metadata": {},
     "output_type": "execute_result"
    }
   ],
   "source": [
    "df_sys.head(10)\n",
    "\n",
    "# Meaning of the columns:\n",
    "# t: time of logging (if 'lambda' and 'mu' are specified as values per hour, the unit of 't' is hours)\n",
    "# c_s: nr of customers in the system\n",
    "# c_q nr of customers in the queue"
   ]
  },
  {
   "cell_type": "markdown",
   "metadata": {},
   "source": [
    "## Sandbox"
   ]
  },
  {
   "cell_type": "code",
   "execution_count": null,
   "metadata": {},
   "outputs": [],
   "source": []
  }
 ],
 "metadata": {
  "kernelspec": {
   "display_name": "Python 3",
   "language": "python",
   "name": "python3"
  },
  "language_info": {
   "codemirror_mode": {
    "name": "ipython",
    "version": 3
   },
   "file_extension": ".py",
   "mimetype": "text/x-python",
   "name": "python",
   "nbconvert_exporter": "python",
   "pygments_lexer": "ipython3",
   "version": "3.7.3"
  }
 },
 "nbformat": 4,
 "nbformat_minor": 4
}
